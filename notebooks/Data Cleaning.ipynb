{
 "cells": [
  {
   "cell_type": "markdown",
   "metadata": {},
   "source": [
    "# Importing the required modules"
   ]
  },
  {
   "cell_type": "code",
   "execution_count": 1,
   "metadata": {},
   "outputs": [],
   "source": [
    "import pandas as pd\n",
    "import numpy as np\n",
    "from skimage.io import imread, imshow\n",
    "from skimage import transform\n",
    "import matplotlib.pyplot as plt\n",
    "from skimage import color\n",
    "import os"
   ]
  },
  {
   "cell_type": "markdown",
   "metadata": {},
   "source": [
    "# Reading the images"
   ]
  },
  {
   "cell_type": "code",
   "execution_count": 2,
   "metadata": {},
   "outputs": [],
   "source": [
    "chestXRays = dict()\n",
    "\n",
    "def load_images_from_folder(folder,type):\n",
    "    chestXRays[type] = []\n",
    "    for filename in os.listdir(folder):\n",
    "        img = imread(os.path.join(folder,filename))\n",
    "        newsize = (50, 50)\n",
    "        img1 = transform.resize(img,output_shape=newsize)\n",
    "        if img1 is not None:\n",
    "             chestXRays[type].append(img1)"
   ]
  },
  {
   "cell_type": "markdown",
   "metadata": {},
   "source": [
    "# Processing the Train Images"
   ]
  },
  {
   "cell_type": "markdown",
   "metadata": {},
   "source": [
    "## Feature Extraction"
   ]
  },
  {
   "cell_type": "markdown",
   "metadata": {},
   "source": [
    "### Pixel Matrix"
   ]
  },
  {
   "cell_type": "code",
   "execution_count": 25,
   "metadata": {},
   "outputs": [],
   "source": [
    "for i in [\"normal\",\"pneumonia\"]:\n",
    "  path = os.path.join(r\"C:\\Users\\mitug\\Pneumonia-Detection-System\\data\\Images\\train\",i)\n",
    "  load_images_from_folder(path,i)"
   ]
  },
  {
   "cell_type": "code",
   "execution_count": null,
   "metadata": {},
   "outputs": [],
   "source": [
    "for i in range(len(chestXRays['pneumonia'])):\n",
    "    if np.shape(chestXRays['pneumonia'][i]) != (50,50):\n",
    "      chestXRays['pneumonia'][i] = color.rgb2gray(chestXRays['pneumonia'][i])"
   ]
  },
  {
   "cell_type": "markdown",
   "metadata": {},
   "source": [
    "### Image Samples"
   ]
  },
  {
   "cell_type": "code",
   "execution_count": 26,
   "metadata": {},
   "outputs": [
    {
     "data": {
      "text/plain": [
       "(1341, 50, 50)"
      ]
     },
     "execution_count": 26,
     "metadata": {},
     "output_type": "execute_result"
    }
   ],
   "source": [
    "imshow(chestXRays['normal'][0])"
   ]
  },
  {
   "cell_type": "code",
   "execution_count": 64,
   "metadata": {},
   "outputs": [
    {
     "data": {
      "text/plain": [
       "(3875, 50, 50)"
      ]
     },
     "execution_count": 64,
     "metadata": {},
     "output_type": "execute_result"
    }
   ],
   "source": [
    "np.shape(chestXRays['pneumonia'][0])"
   ]
  },
  {
   "cell_type": "markdown",
   "metadata": {},
   "source": [
    "### Reshaping the pixel matrix"
   ]
  },
  {
   "cell_type": "code",
   "execution_count": 27,
   "metadata": {},
   "outputs": [],
   "source": [
    "for i in range(len(chestXRays['normal'])):\n",
    "    chestXRays['normal'][i] = np.reshape(chestXRays['normal'][i],(1,-1))"
   ]
  },
  {
   "cell_type": "code",
   "execution_count": 65,
   "metadata": {},
   "outputs": [],
   "source": [
    "for i in range(len(chestXRays['pneumonia'])):\n",
    "    chestXRays['pneumonia'][i] = np.reshape(chestXRays['pneumonia'][i],(1,-1))"
   ]
  },
  {
   "cell_type": "code",
   "execution_count": 30,
   "metadata": {},
   "outputs": [],
   "source": [
    "x = np.reshape(chestXRays['normal'],(len(chestXRays['normal']),2500))"
   ]
  },
  {
   "cell_type": "code",
   "execution_count": 67,
   "metadata": {},
   "outputs": [],
   "source": [
    "y = np.reshape(chestXRays['pneumonia'],(len(chestXRays['pneumonia']),2500))"
   ]
  },
  {
   "cell_type": "markdown",
   "metadata": {},
   "source": [
    "## Creating a dataframe of the pixel features"
   ]
  },
  {
   "cell_type": "markdown",
   "metadata": {},
   "source": [
    "### For Normal Lung X-Rays"
   ]
  },
  {
   "cell_type": "code",
   "execution_count": 33,
   "metadata": {},
   "outputs": [],
   "source": [
    "n = pd.DataFrame(x)"
   ]
  },
  {
   "cell_type": "code",
   "execution_count": null,
   "metadata": {},
   "outputs": [],
   "source": [
    "n[\"type\"] = [\"Normal\"]*len(n)"
   ]
  },
  {
   "cell_type": "code",
   "execution_count": null,
   "metadata": {},
   "outputs": [],
   "source": [
    "n.info()"
   ]
  },
  {
   "cell_type": "markdown",
   "metadata": {},
   "source": [
    "### For Pneumonia-infected Lung X-Rays"
   ]
  },
  {
   "cell_type": "code",
   "execution_count": 68,
   "metadata": {},
   "outputs": [],
   "source": [
    "p = pd.DataFrame(y)"
   ]
  },
  {
   "cell_type": "code",
   "execution_count": 69,
   "metadata": {},
   "outputs": [],
   "source": [
    "p[\"type\"] = [\"Pneumonia\"]*len(p)"
   ]
  },
  {
   "cell_type": "code",
   "execution_count": 70,
   "metadata": {},
   "outputs": [
    {
     "name": "stdout",
     "output_type": "stream",
     "text": [
      "<class 'pandas.core.frame.DataFrame'>\n",
      "RangeIndex: 3875 entries, 0 to 3874\n",
      "Columns: 2501 entries, 0 to type\n",
      "dtypes: float64(2500), object(1)\n",
      "memory usage: 73.9+ MB\n"
     ]
    }
   ],
   "source": [
    "p.info()"
   ]
  },
  {
   "cell_type": "markdown",
   "metadata": {},
   "source": [
    "### Combining the dataframes into a Single DataFrame"
   ]
  },
  {
   "cell_type": "code",
   "execution_count": 71,
   "metadata": {},
   "outputs": [],
   "source": [
    "final = pd.concat([n,p])"
   ]
  },
  {
   "cell_type": "markdown",
   "metadata": {},
   "source": [
    "## Writing the DataFrame into CSV file"
   ]
  },
  {
   "cell_type": "code",
   "execution_count": 75,
   "metadata": {},
   "outputs": [],
   "source": [
    "final.to_csv(r\"C:\\Users\\mitug\\Pneumonia-Detection-System\\data\\csv\\train.csv\")"
   ]
  },
  {
   "cell_type": "markdown",
   "metadata": {},
   "source": [
    "# Processing the Test Images"
   ]
  },
  {
   "cell_type": "markdown",
   "metadata": {},
   "source": [
    "# Feature Extraction"
   ]
  },
  {
   "cell_type": "markdown",
   "metadata": {},
   "source": [
    "### Pixel Matrix"
   ]
  },
  {
   "cell_type": "code",
   "execution_count": 146,
   "metadata": {},
   "outputs": [],
   "source": [
    "for i in [\"normal\",\"pneumonia\"]:\n",
    "  path = os.path.join(r\"C:\\Users\\mitug\\Pneumonia-Detection-System\\data\\Images\\test\",i)\n",
    "  load_images_from_folder(path,i)"
   ]
  },
  {
   "cell_type": "markdown",
   "metadata": {},
   "source": [
    "### Reshaping the matrix"
   ]
  },
  {
   "cell_type": "code",
   "execution_count": 150,
   "metadata": {},
   "outputs": [],
   "source": [
    "for i in range(len(chestXRays['normal'])):\n",
    "    chestXRays['normal'][i] = np.reshape(chestXRays['normal'][i],(1,-1))"
   ]
  },
  {
   "cell_type": "code",
   "execution_count": 151,
   "metadata": {},
   "outputs": [],
   "source": [
    "for i in range(len(chestXRays['pneumonia'])):\n",
    "    chestXRays['pneumonia'][i] = np.reshape(chestXRays['pneumonia'][i],(1,-1))"
   ]
  },
  {
   "cell_type": "code",
   "execution_count": 152,
   "metadata": {},
   "outputs": [],
   "source": [
    "x = np.reshape(chestXRays['normal'],(234,2500))"
   ]
  },
  {
   "cell_type": "code",
   "execution_count": 153,
   "metadata": {},
   "outputs": [],
   "source": [
    "y = np.reshape(chestXRays['pneumonia'],(len(chestXRays['pneumonia']),2500))"
   ]
  },
  {
   "cell_type": "markdown",
   "metadata": {},
   "source": [
    "## Creating a dataframe from the pixel features"
   ]
  },
  {
   "cell_type": "markdown",
   "metadata": {},
   "source": [
    "### For Normal Lung X-Rays"
   ]
  },
  {
   "cell_type": "code",
   "execution_count": 154,
   "metadata": {},
   "outputs": [],
   "source": [
    "n = pd.DataFrame(x)"
   ]
  },
  {
   "cell_type": "code",
   "execution_count": null,
   "metadata": {},
   "outputs": [],
   "source": [
    "n[\"type\"] = [\"Normal\"]*len(n)"
   ]
  },
  {
   "cell_type": "code",
   "execution_count": null,
   "metadata": {},
   "outputs": [],
   "source": [
    "n.info()"
   ]
  },
  {
   "cell_type": "markdown",
   "metadata": {},
   "source": [
    "### For Pneumonia-infected Lung X-Rays"
   ]
  },
  {
   "cell_type": "code",
   "execution_count": 155,
   "metadata": {},
   "outputs": [],
   "source": [
    "p = pd.DataFrame(y)"
   ]
  },
  {
   "cell_type": "code",
   "execution_count": 156,
   "metadata": {},
   "outputs": [],
   "source": [
    "p[\"type\"] = [\"Pneumonia\"]*len(p)"
   ]
  },
  {
   "cell_type": "code",
   "execution_count": 159,
   "metadata": {},
   "outputs": [
    {
     "name": "stdout",
     "output_type": "stream",
     "text": [
      "<class 'pandas.core.frame.DataFrame'>\n",
      "RangeIndex: 390 entries, 0 to 389\n",
      "Columns: 2501 entries, 0 to type\n",
      "dtypes: float64(2500), object(1)\n",
      "memory usage: 7.4+ MB\n"
     ]
    }
   ],
   "source": [
    "p.info()"
   ]
  },
  {
   "cell_type": "markdown",
   "metadata": {},
   "source": [
    "### Combining the dataframes into a Single DataFrame"
   ]
  },
  {
   "cell_type": "code",
   "execution_count": 160,
   "metadata": {},
   "outputs": [],
   "source": [
    "final = pd.concat([n,p])"
   ]
  },
  {
   "cell_type": "code",
   "execution_count": 161,
   "metadata": {},
   "outputs": [
    {
     "data": {
      "text/html": [
       "<div>\n",
       "<style scoped>\n",
       "    .dataframe tbody tr th:only-of-type {\n",
       "        vertical-align: middle;\n",
       "    }\n",
       "\n",
       "    .dataframe tbody tr th {\n",
       "        vertical-align: top;\n",
       "    }\n",
       "\n",
       "    .dataframe thead th {\n",
       "        text-align: right;\n",
       "    }\n",
       "</style>\n",
       "<table border=\"1\" class=\"dataframe\">\n",
       "  <thead>\n",
       "    <tr style=\"text-align: right;\">\n",
       "      <th></th>\n",
       "      <th>0</th>\n",
       "      <th>1</th>\n",
       "      <th>2</th>\n",
       "      <th>3</th>\n",
       "      <th>4</th>\n",
       "      <th>5</th>\n",
       "      <th>6</th>\n",
       "      <th>7</th>\n",
       "      <th>8</th>\n",
       "      <th>9</th>\n",
       "      <th>...</th>\n",
       "      <th>2491</th>\n",
       "      <th>2492</th>\n",
       "      <th>2493</th>\n",
       "      <th>2494</th>\n",
       "      <th>2495</th>\n",
       "      <th>2496</th>\n",
       "      <th>2497</th>\n",
       "      <th>2498</th>\n",
       "      <th>2499</th>\n",
       "      <th>type</th>\n",
       "    </tr>\n",
       "  </thead>\n",
       "  <tbody>\n",
       "    <tr>\n",
       "      <th>0</th>\n",
       "      <td>0.122465</td>\n",
       "      <td>0.116420</td>\n",
       "      <td>0.109764</td>\n",
       "      <td>0.107399</td>\n",
       "      <td>0.107060</td>\n",
       "      <td>0.107025</td>\n",
       "      <td>0.106282</td>\n",
       "      <td>0.105681</td>\n",
       "      <td>0.107498</td>\n",
       "      <td>0.258542</td>\n",
       "      <td>...</td>\n",
       "      <td>0.689661</td>\n",
       "      <td>0.648444</td>\n",
       "      <td>0.584912</td>\n",
       "      <td>0.303299</td>\n",
       "      <td>0.109763</td>\n",
       "      <td>0.111618</td>\n",
       "      <td>0.123106</td>\n",
       "      <td>0.128758</td>\n",
       "      <td>0.129458</td>\n",
       "      <td>Normal</td>\n",
       "    </tr>\n",
       "    <tr>\n",
       "      <th>1</th>\n",
       "      <td>0.124358</td>\n",
       "      <td>0.253092</td>\n",
       "      <td>0.444090</td>\n",
       "      <td>0.548604</td>\n",
       "      <td>0.604798</td>\n",
       "      <td>0.699098</td>\n",
       "      <td>0.722988</td>\n",
       "      <td>0.720528</td>\n",
       "      <td>0.691291</td>\n",
       "      <td>0.652887</td>\n",
       "      <td>...</td>\n",
       "      <td>0.730217</td>\n",
       "      <td>0.642858</td>\n",
       "      <td>0.473676</td>\n",
       "      <td>0.162539</td>\n",
       "      <td>0.105735</td>\n",
       "      <td>0.117352</td>\n",
       "      <td>0.123976</td>\n",
       "      <td>0.127866</td>\n",
       "      <td>0.124735</td>\n",
       "      <td>Normal</td>\n",
       "    </tr>\n",
       "    <tr>\n",
       "      <th>2</th>\n",
       "      <td>0.141067</td>\n",
       "      <td>0.134452</td>\n",
       "      <td>0.129477</td>\n",
       "      <td>0.127610</td>\n",
       "      <td>0.129317</td>\n",
       "      <td>0.130882</td>\n",
       "      <td>0.130828</td>\n",
       "      <td>0.131132</td>\n",
       "      <td>0.130169</td>\n",
       "      <td>0.124539</td>\n",
       "      <td>...</td>\n",
       "      <td>0.740605</td>\n",
       "      <td>0.710004</td>\n",
       "      <td>0.658427</td>\n",
       "      <td>0.606793</td>\n",
       "      <td>0.330613</td>\n",
       "      <td>0.115430</td>\n",
       "      <td>0.113229</td>\n",
       "      <td>0.127140</td>\n",
       "      <td>0.133175</td>\n",
       "      <td>Normal</td>\n",
       "    </tr>\n",
       "    <tr>\n",
       "      <th>3</th>\n",
       "      <td>0.307677</td>\n",
       "      <td>0.343741</td>\n",
       "      <td>0.356352</td>\n",
       "      <td>0.373062</td>\n",
       "      <td>0.427929</td>\n",
       "      <td>0.446981</td>\n",
       "      <td>0.426127</td>\n",
       "      <td>0.418732</td>\n",
       "      <td>0.417412</td>\n",
       "      <td>0.417001</td>\n",
       "      <td>...</td>\n",
       "      <td>0.760763</td>\n",
       "      <td>0.750364</td>\n",
       "      <td>0.773015</td>\n",
       "      <td>0.752257</td>\n",
       "      <td>0.689769</td>\n",
       "      <td>0.634700</td>\n",
       "      <td>0.562861</td>\n",
       "      <td>0.495642</td>\n",
       "      <td>0.505871</td>\n",
       "      <td>Normal</td>\n",
       "    </tr>\n",
       "    <tr>\n",
       "      <th>4</th>\n",
       "      <td>0.148441</td>\n",
       "      <td>0.137073</td>\n",
       "      <td>0.124300</td>\n",
       "      <td>0.116225</td>\n",
       "      <td>0.113236</td>\n",
       "      <td>0.114013</td>\n",
       "      <td>0.117726</td>\n",
       "      <td>0.122859</td>\n",
       "      <td>0.142571</td>\n",
       "      <td>0.351559</td>\n",
       "      <td>...</td>\n",
       "      <td>0.765942</td>\n",
       "      <td>0.687622</td>\n",
       "      <td>0.594573</td>\n",
       "      <td>0.336478</td>\n",
       "      <td>0.151132</td>\n",
       "      <td>0.157526</td>\n",
       "      <td>0.162113</td>\n",
       "      <td>0.165055</td>\n",
       "      <td>0.169980</td>\n",
       "      <td>Normal</td>\n",
       "    </tr>\n",
       "    <tr>\n",
       "      <th>...</th>\n",
       "      <td>...</td>\n",
       "      <td>...</td>\n",
       "      <td>...</td>\n",
       "      <td>...</td>\n",
       "      <td>...</td>\n",
       "      <td>...</td>\n",
       "      <td>...</td>\n",
       "      <td>...</td>\n",
       "      <td>...</td>\n",
       "      <td>...</td>\n",
       "      <td>...</td>\n",
       "      <td>...</td>\n",
       "      <td>...</td>\n",
       "      <td>...</td>\n",
       "      <td>...</td>\n",
       "      <td>...</td>\n",
       "      <td>...</td>\n",
       "      <td>...</td>\n",
       "      <td>...</td>\n",
       "      <td>...</td>\n",
       "      <td>...</td>\n",
       "    </tr>\n",
       "    <tr>\n",
       "      <th>385</th>\n",
       "      <td>0.155908</td>\n",
       "      <td>0.228919</td>\n",
       "      <td>0.390605</td>\n",
       "      <td>0.419084</td>\n",
       "      <td>0.135224</td>\n",
       "      <td>0.072125</td>\n",
       "      <td>0.044149</td>\n",
       "      <td>0.041543</td>\n",
       "      <td>0.038859</td>\n",
       "      <td>0.038799</td>\n",
       "      <td>...</td>\n",
       "      <td>0.689635</td>\n",
       "      <td>0.670044</td>\n",
       "      <td>0.552763</td>\n",
       "      <td>0.280457</td>\n",
       "      <td>0.086518</td>\n",
       "      <td>0.081061</td>\n",
       "      <td>0.093127</td>\n",
       "      <td>0.098354</td>\n",
       "      <td>0.106709</td>\n",
       "      <td>Pneumonia</td>\n",
       "    </tr>\n",
       "    <tr>\n",
       "      <th>386</th>\n",
       "      <td>0.264223</td>\n",
       "      <td>0.089496</td>\n",
       "      <td>0.065780</td>\n",
       "      <td>0.161632</td>\n",
       "      <td>0.119787</td>\n",
       "      <td>0.072486</td>\n",
       "      <td>0.070447</td>\n",
       "      <td>0.068144</td>\n",
       "      <td>0.063681</td>\n",
       "      <td>0.062380</td>\n",
       "      <td>...</td>\n",
       "      <td>0.673066</td>\n",
       "      <td>0.642661</td>\n",
       "      <td>0.616901</td>\n",
       "      <td>0.547461</td>\n",
       "      <td>0.386223</td>\n",
       "      <td>0.148504</td>\n",
       "      <td>0.072304</td>\n",
       "      <td>0.092875</td>\n",
       "      <td>0.109997</td>\n",
       "      <td>Pneumonia</td>\n",
       "    </tr>\n",
       "    <tr>\n",
       "      <th>387</th>\n",
       "      <td>0.168052</td>\n",
       "      <td>0.612537</td>\n",
       "      <td>0.441991</td>\n",
       "      <td>0.183189</td>\n",
       "      <td>0.143593</td>\n",
       "      <td>0.167557</td>\n",
       "      <td>0.203819</td>\n",
       "      <td>0.263959</td>\n",
       "      <td>0.305906</td>\n",
       "      <td>0.319570</td>\n",
       "      <td>...</td>\n",
       "      <td>0.670853</td>\n",
       "      <td>0.329535</td>\n",
       "      <td>0.096713</td>\n",
       "      <td>0.099166</td>\n",
       "      <td>0.111792</td>\n",
       "      <td>0.118929</td>\n",
       "      <td>0.123289</td>\n",
       "      <td>0.126860</td>\n",
       "      <td>0.129170</td>\n",
       "      <td>Pneumonia</td>\n",
       "    </tr>\n",
       "    <tr>\n",
       "      <th>388</th>\n",
       "      <td>0.521553</td>\n",
       "      <td>0.239349</td>\n",
       "      <td>0.283221</td>\n",
       "      <td>0.401502</td>\n",
       "      <td>0.291520</td>\n",
       "      <td>0.266921</td>\n",
       "      <td>0.245546</td>\n",
       "      <td>0.277680</td>\n",
       "      <td>0.305155</td>\n",
       "      <td>0.311101</td>\n",
       "      <td>...</td>\n",
       "      <td>0.681481</td>\n",
       "      <td>0.670039</td>\n",
       "      <td>0.679236</td>\n",
       "      <td>0.615127</td>\n",
       "      <td>0.321732</td>\n",
       "      <td>0.111666</td>\n",
       "      <td>0.068561</td>\n",
       "      <td>0.083369</td>\n",
       "      <td>0.087998</td>\n",
       "      <td>Pneumonia</td>\n",
       "    </tr>\n",
       "    <tr>\n",
       "      <th>389</th>\n",
       "      <td>0.102355</td>\n",
       "      <td>0.159628</td>\n",
       "      <td>0.216895</td>\n",
       "      <td>0.257507</td>\n",
       "      <td>0.276036</td>\n",
       "      <td>0.270448</td>\n",
       "      <td>0.247177</td>\n",
       "      <td>0.211085</td>\n",
       "      <td>0.154467</td>\n",
       "      <td>0.077929</td>\n",
       "      <td>...</td>\n",
       "      <td>0.390805</td>\n",
       "      <td>0.463280</td>\n",
       "      <td>0.597451</td>\n",
       "      <td>0.633111</td>\n",
       "      <td>0.517948</td>\n",
       "      <td>0.192569</td>\n",
       "      <td>0.016371</td>\n",
       "      <td>0.000082</td>\n",
       "      <td>0.000000</td>\n",
       "      <td>Pneumonia</td>\n",
       "    </tr>\n",
       "  </tbody>\n",
       "</table>\n",
       "<p>624 rows × 2501 columns</p>\n",
       "</div>"
      ],
      "text/plain": [
       "            0         1         2         3         4         5         6  \\\n",
       "0    0.122465  0.116420  0.109764  0.107399  0.107060  0.107025  0.106282   \n",
       "1    0.124358  0.253092  0.444090  0.548604  0.604798  0.699098  0.722988   \n",
       "2    0.141067  0.134452  0.129477  0.127610  0.129317  0.130882  0.130828   \n",
       "3    0.307677  0.343741  0.356352  0.373062  0.427929  0.446981  0.426127   \n",
       "4    0.148441  0.137073  0.124300  0.116225  0.113236  0.114013  0.117726   \n",
       "..        ...       ...       ...       ...       ...       ...       ...   \n",
       "385  0.155908  0.228919  0.390605  0.419084  0.135224  0.072125  0.044149   \n",
       "386  0.264223  0.089496  0.065780  0.161632  0.119787  0.072486  0.070447   \n",
       "387  0.168052  0.612537  0.441991  0.183189  0.143593  0.167557  0.203819   \n",
       "388  0.521553  0.239349  0.283221  0.401502  0.291520  0.266921  0.245546   \n",
       "389  0.102355  0.159628  0.216895  0.257507  0.276036  0.270448  0.247177   \n",
       "\n",
       "            7         8         9  ...      2491      2492      2493  \\\n",
       "0    0.105681  0.107498  0.258542  ...  0.689661  0.648444  0.584912   \n",
       "1    0.720528  0.691291  0.652887  ...  0.730217  0.642858  0.473676   \n",
       "2    0.131132  0.130169  0.124539  ...  0.740605  0.710004  0.658427   \n",
       "3    0.418732  0.417412  0.417001  ...  0.760763  0.750364  0.773015   \n",
       "4    0.122859  0.142571  0.351559  ...  0.765942  0.687622  0.594573   \n",
       "..        ...       ...       ...  ...       ...       ...       ...   \n",
       "385  0.041543  0.038859  0.038799  ...  0.689635  0.670044  0.552763   \n",
       "386  0.068144  0.063681  0.062380  ...  0.673066  0.642661  0.616901   \n",
       "387  0.263959  0.305906  0.319570  ...  0.670853  0.329535  0.096713   \n",
       "388  0.277680  0.305155  0.311101  ...  0.681481  0.670039  0.679236   \n",
       "389  0.211085  0.154467  0.077929  ...  0.390805  0.463280  0.597451   \n",
       "\n",
       "         2494      2495      2496      2497      2498      2499       type  \n",
       "0    0.303299  0.109763  0.111618  0.123106  0.128758  0.129458     Normal  \n",
       "1    0.162539  0.105735  0.117352  0.123976  0.127866  0.124735     Normal  \n",
       "2    0.606793  0.330613  0.115430  0.113229  0.127140  0.133175     Normal  \n",
       "3    0.752257  0.689769  0.634700  0.562861  0.495642  0.505871     Normal  \n",
       "4    0.336478  0.151132  0.157526  0.162113  0.165055  0.169980     Normal  \n",
       "..        ...       ...       ...       ...       ...       ...        ...  \n",
       "385  0.280457  0.086518  0.081061  0.093127  0.098354  0.106709  Pneumonia  \n",
       "386  0.547461  0.386223  0.148504  0.072304  0.092875  0.109997  Pneumonia  \n",
       "387  0.099166  0.111792  0.118929  0.123289  0.126860  0.129170  Pneumonia  \n",
       "388  0.615127  0.321732  0.111666  0.068561  0.083369  0.087998  Pneumonia  \n",
       "389  0.633111  0.517948  0.192569  0.016371  0.000082  0.000000  Pneumonia  \n",
       "\n",
       "[624 rows x 2501 columns]"
      ]
     },
     "execution_count": 161,
     "metadata": {},
     "output_type": "execute_result"
    }
   ],
   "source": [
    "final.head()"
   ]
  },
  {
   "cell_type": "markdown",
   "metadata": {},
   "source": [
    "## Writing the pixel features into a CSV file"
   ]
  },
  {
   "cell_type": "code",
   "execution_count": 24,
   "metadata": {},
   "outputs": [],
   "source": [
    "final.to_csv(r\"C:\\Users\\mitug\\Pneumonia-Detection-System\\data\\csv\\test.csv\")"
   ]
  }
 ],
 "metadata": {
  "interpreter": {
   "hash": "a55ab4ece29384b9da2602029a0f6ed5cbe09323f95f9aa4d8fe2db970f11356"
  },
  "kernelspec": {
   "display_name": "Python 3.9.1 64-bit",
   "language": "python",
   "name": "python3"
  },
  "language_info": {
   "codemirror_mode": {
    "name": "ipython",
    "version": 3
   },
   "file_extension": ".py",
   "mimetype": "text/x-python",
   "name": "python",
   "nbconvert_exporter": "python",
   "pygments_lexer": "ipython3",
   "version": "3.9.1"
  },
  "orig_nbformat": 4
 },
 "nbformat": 4,
 "nbformat_minor": 2
}
