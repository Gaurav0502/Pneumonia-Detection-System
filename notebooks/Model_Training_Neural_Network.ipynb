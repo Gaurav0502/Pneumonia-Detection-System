{
  "nbformat": 4,
  "nbformat_minor": 0,
  "metadata": {
    "colab": {
      "name": "Model Training Neural Network.ipynb",
      "provenance": [],
      "collapsed_sections": []
    },
    "kernelspec": {
      "name": "python3",
      "display_name": "Python 3"
    },
    "language_info": {
      "name": "python"
    }
  },
  "cells": [
    {
      "cell_type": "code",
      "execution_count": 2,
      "metadata": {
        "id": "WgdKC6snxmOG"
      },
      "outputs": [],
      "source": [
        "from keras.models import Sequential\n",
        "from keras.layers import Dense\n",
        "import numpy as np\n",
        "import pandas as pd\n",
        "from glob import glob\n",
        "import matplotlib.pyplot as plt\n",
        "import tensorflow as tf"
      ]
    },
    {
      "cell_type": "code",
      "source": [
        "df=pd.read_csv('train.csv')\n",
        "xtrain = df[df.columns[range(1,2501)]]\n",
        "print(xtrain)\n",
        "ytrain = df[df.columns[-1]]\n",
        "df1=pd.read_csv('validation.csv')\n",
        "xval = df1[df.columns[range(1,2501)]]\n",
        "yval = df1[df.columns[-1]]"
      ],
      "metadata": {
        "colab": {
          "base_uri": "https://localhost:8080/"
        },
        "id": "TQ7rzaRZzTMo",
        "outputId": "a277ba90-ddfd-4b94-a48a-51d5832e16b0"
      },
      "execution_count": 3,
      "outputs": [
        {
          "output_type": "stream",
          "name": "stdout",
          "text": [
            "             0         1         2  ...      2497      2498      2499\n",
            "0     0.081854  0.162635  0.277852  ...  0.233160  0.246771  0.255128\n",
            "1     0.102432  0.153893  0.206869  ...  0.005638  0.000022  0.000000\n",
            "2     0.015708  0.103597  0.198936  ...  0.017765  0.000117  0.001420\n",
            "3     0.179396  0.239438  0.307044  ...  0.016304  0.035330  0.043289\n",
            "4     0.304027  0.241181  0.168301  ...  0.099308  0.002299  0.000000\n",
            "...        ...       ...       ...  ...       ...       ...       ...\n",
            "5211  0.001449  0.049044  0.169362  ...  0.037498  0.000521  0.000000\n",
            "5212  0.361376  0.360008  0.406875  ...  0.065441  0.067729  0.074407\n",
            "5213  0.097749  0.051935  0.078719  ...  0.403284  0.263492  0.146881\n",
            "5214  0.173169  0.187989  0.224778  ...  0.100532  0.092137  0.103122\n",
            "5215  0.037483  0.050916  0.119764  ...  0.038001  0.042875  0.056852\n",
            "\n",
            "[5216 rows x 2500 columns]\n"
          ]
        }
      ]
    },
    {
      "cell_type": "code",
      "source": [
        "print(xtrain.shape, xval.shape)"
      ],
      "metadata": {
        "colab": {
          "base_uri": "https://localhost:8080/"
        },
        "id": "Z8lrTufk-0q-",
        "outputId": "d88a7fb7-a640-4c6d-8391-969eb170359e"
      },
      "execution_count": 4,
      "outputs": [
        {
          "output_type": "stream",
          "name": "stdout",
          "text": [
            "(5216, 2500) (16, 2500)\n"
          ]
        }
      ]
    },
    {
      "cell_type": "code",
      "source": [
        "ytrain = ytrain.replace({'Normal': 0})\n",
        "ytrain = ytrain.replace({'Pneumonia': 1})\n",
        "ytrain"
      ],
      "metadata": {
        "colab": {
          "base_uri": "https://localhost:8080/"
        },
        "id": "d-sQ0hzvI7M4",
        "outputId": "247aaa4d-4c01-44c8-999d-d4500a44a755"
      },
      "execution_count": 5,
      "outputs": [
        {
          "output_type": "execute_result",
          "data": {
            "text/plain": [
              "0       0\n",
              "1       0\n",
              "2       0\n",
              "3       0\n",
              "4       0\n",
              "       ..\n",
              "5211    1\n",
              "5212    1\n",
              "5213    1\n",
              "5214    1\n",
              "5215    1\n",
              "Name: type, Length: 5216, dtype: int64"
            ]
          },
          "metadata": {},
          "execution_count": 5
        }
      ]
    },
    {
      "cell_type": "code",
      "source": [
        "yval = yval.replace({'Normal': 0})\n",
        "yval = yval.replace({'Pneumonia': 1})\n",
        "yval"
      ],
      "metadata": {
        "colab": {
          "base_uri": "https://localhost:8080/"
        },
        "id": "NFiXjf4ZLkGQ",
        "outputId": "38a2465c-1c30-446c-848f-bf04883b9eec"
      },
      "execution_count": 6,
      "outputs": [
        {
          "output_type": "execute_result",
          "data": {
            "text/plain": [
              "0     0\n",
              "1     0\n",
              "2     0\n",
              "3     0\n",
              "4     0\n",
              "5     0\n",
              "6     0\n",
              "7     0\n",
              "8     1\n",
              "9     1\n",
              "10    1\n",
              "11    1\n",
              "12    1\n",
              "13    1\n",
              "14    1\n",
              "15    1\n",
              "Name: type, dtype: int64"
            ]
          },
          "metadata": {},
          "execution_count": 6
        }
      ]
    },
    {
      "cell_type": "code",
      "source": [
        "model = Sequential()\n",
        "model = Sequential([\n",
        "    Dense(128, activation='relu', input_shape=(2500,)),\n",
        "    Dense(64, activation='relu'),\n",
        "    Dense(32, activation='relu'),\n",
        "    Dense(8, activation='relu'),\n",
        "    Dense(1, activation='sigmoid'),\n",
        "])"
      ],
      "metadata": {
        "id": "AR0iCSwBCQI_"
      },
      "execution_count": 7,
      "outputs": []
    },
    {
      "cell_type": "code",
      "source": [
        "model.compile(optimizer='sgd',loss='binary_crossentropy',metrics=['accuracy'])"
      ],
      "metadata": {
        "id": "XvmuT2_FIU1_"
      },
      "execution_count": 8,
      "outputs": []
    },
    {
      "cell_type": "code",
      "source": [
        "hist = model.fit(xtrain,ytrain, batch_size=32, epochs=75,validation_data=(xval, yval))"
      ],
      "metadata": {
        "colab": {
          "base_uri": "https://localhost:8080/"
        },
        "id": "BLSZaUivIcje",
        "outputId": "5521555a-f33a-47cf-a15f-8f451b56ccb6"
      },
      "execution_count": 9,
      "outputs": [
        {
          "output_type": "stream",
          "name": "stdout",
          "text": [
            "Epoch 1/75\n",
            "163/163 [==============================] - 2s 7ms/step - loss: 0.4489 - accuracy: 0.7966 - val_loss: 0.7895 - val_accuracy: 0.5625\n",
            "Epoch 2/75\n",
            "163/163 [==============================] - 1s 5ms/step - loss: 0.3082 - accuracy: 0.8729 - val_loss: 0.5535 - val_accuracy: 0.6875\n",
            "Epoch 3/75\n",
            "163/163 [==============================] - 1s 5ms/step - loss: 0.2469 - accuracy: 0.9005 - val_loss: 0.7752 - val_accuracy: 0.6875\n",
            "Epoch 4/75\n",
            "163/163 [==============================] - 1s 5ms/step - loss: 0.2226 - accuracy: 0.9132 - val_loss: 0.4886 - val_accuracy: 0.8125\n",
            "Epoch 5/75\n",
            "163/163 [==============================] - 1s 5ms/step - loss: 0.2027 - accuracy: 0.9199 - val_loss: 0.4149 - val_accuracy: 0.8125\n",
            "Epoch 6/75\n",
            "163/163 [==============================] - 1s 5ms/step - loss: 0.1859 - accuracy: 0.9235 - val_loss: 0.5062 - val_accuracy: 0.8125\n",
            "Epoch 7/75\n",
            "163/163 [==============================] - 1s 5ms/step - loss: 0.1689 - accuracy: 0.9327 - val_loss: 0.4105 - val_accuracy: 0.8125\n",
            "Epoch 8/75\n",
            "163/163 [==============================] - 1s 5ms/step - loss: 0.1525 - accuracy: 0.9413 - val_loss: 0.4155 - val_accuracy: 0.8125\n",
            "Epoch 9/75\n",
            "163/163 [==============================] - 1s 5ms/step - loss: 0.1576 - accuracy: 0.9356 - val_loss: 0.5088 - val_accuracy: 0.7500\n",
            "Epoch 10/75\n",
            "163/163 [==============================] - 1s 5ms/step - loss: 0.1479 - accuracy: 0.9421 - val_loss: 0.5971 - val_accuracy: 0.8125\n",
            "Epoch 11/75\n",
            "163/163 [==============================] - 1s 5ms/step - loss: 0.1473 - accuracy: 0.9438 - val_loss: 0.4496 - val_accuracy: 0.8125\n",
            "Epoch 12/75\n",
            "163/163 [==============================] - 1s 5ms/step - loss: 0.1369 - accuracy: 0.9448 - val_loss: 0.3338 - val_accuracy: 0.8125\n",
            "Epoch 13/75\n",
            "163/163 [==============================] - 1s 5ms/step - loss: 0.1370 - accuracy: 0.9438 - val_loss: 0.2217 - val_accuracy: 0.9375\n",
            "Epoch 14/75\n",
            "163/163 [==============================] - 1s 5ms/step - loss: 0.1446 - accuracy: 0.9434 - val_loss: 0.2275 - val_accuracy: 0.9375\n",
            "Epoch 15/75\n",
            "163/163 [==============================] - 1s 5ms/step - loss: 0.1261 - accuracy: 0.9525 - val_loss: 0.2531 - val_accuracy: 0.9375\n",
            "Epoch 16/75\n",
            "163/163 [==============================] - 1s 5ms/step - loss: 0.1396 - accuracy: 0.9461 - val_loss: 0.3318 - val_accuracy: 0.8125\n",
            "Epoch 17/75\n",
            "163/163 [==============================] - 1s 5ms/step - loss: 0.1256 - accuracy: 0.9525 - val_loss: 0.3933 - val_accuracy: 0.8125\n",
            "Epoch 18/75\n",
            "163/163 [==============================] - 1s 5ms/step - loss: 0.1243 - accuracy: 0.9540 - val_loss: 0.2786 - val_accuracy: 0.8750\n",
            "Epoch 19/75\n",
            "163/163 [==============================] - 1s 5ms/step - loss: 0.1168 - accuracy: 0.9559 - val_loss: 0.3541 - val_accuracy: 0.8125\n",
            "Epoch 20/75\n",
            "163/163 [==============================] - 1s 5ms/step - loss: 0.1154 - accuracy: 0.9567 - val_loss: 0.3194 - val_accuracy: 0.8750\n",
            "Epoch 21/75\n",
            "163/163 [==============================] - 1s 5ms/step - loss: 0.1157 - accuracy: 0.9549 - val_loss: 0.4755 - val_accuracy: 0.8125\n",
            "Epoch 22/75\n",
            "163/163 [==============================] - 1s 5ms/step - loss: 0.1110 - accuracy: 0.9580 - val_loss: 0.3339 - val_accuracy: 0.8125\n",
            "Epoch 23/75\n",
            "163/163 [==============================] - 1s 6ms/step - loss: 0.1085 - accuracy: 0.9597 - val_loss: 0.4809 - val_accuracy: 0.8125\n",
            "Epoch 24/75\n",
            "163/163 [==============================] - 1s 6ms/step - loss: 0.1114 - accuracy: 0.9572 - val_loss: 0.2844 - val_accuracy: 0.8125\n",
            "Epoch 25/75\n",
            "163/163 [==============================] - 1s 5ms/step - loss: 0.1104 - accuracy: 0.9567 - val_loss: 0.1937 - val_accuracy: 0.8750\n",
            "Epoch 26/75\n",
            "163/163 [==============================] - 1s 6ms/step - loss: 0.1095 - accuracy: 0.9592 - val_loss: 0.1902 - val_accuracy: 0.9375\n",
            "Epoch 27/75\n",
            "163/163 [==============================] - 1s 5ms/step - loss: 0.1064 - accuracy: 0.9617 - val_loss: 0.2358 - val_accuracy: 0.9375\n",
            "Epoch 28/75\n",
            "163/163 [==============================] - 1s 5ms/step - loss: 0.0960 - accuracy: 0.9640 - val_loss: 0.3733 - val_accuracy: 0.8125\n",
            "Epoch 29/75\n",
            "163/163 [==============================] - 1s 5ms/step - loss: 0.1048 - accuracy: 0.9618 - val_loss: 0.1829 - val_accuracy: 0.9375\n",
            "Epoch 30/75\n",
            "163/163 [==============================] - 1s 5ms/step - loss: 0.0986 - accuracy: 0.9640 - val_loss: 0.2880 - val_accuracy: 0.8125\n",
            "Epoch 31/75\n",
            "163/163 [==============================] - 1s 5ms/step - loss: 0.1012 - accuracy: 0.9622 - val_loss: 0.4655 - val_accuracy: 0.8125\n",
            "Epoch 32/75\n",
            "163/163 [==============================] - 1s 5ms/step - loss: 0.0963 - accuracy: 0.9655 - val_loss: 0.4763 - val_accuracy: 0.8125\n",
            "Epoch 33/75\n",
            "163/163 [==============================] - 1s 5ms/step - loss: 0.0965 - accuracy: 0.9626 - val_loss: 0.5080 - val_accuracy: 0.8125\n",
            "Epoch 34/75\n",
            "163/163 [==============================] - 1s 5ms/step - loss: 0.0981 - accuracy: 0.9620 - val_loss: 0.6193 - val_accuracy: 0.8125\n",
            "Epoch 35/75\n",
            "163/163 [==============================] - 1s 5ms/step - loss: 0.0896 - accuracy: 0.9668 - val_loss: 0.2944 - val_accuracy: 0.8125\n",
            "Epoch 36/75\n",
            "163/163 [==============================] - 1s 5ms/step - loss: 0.0973 - accuracy: 0.9626 - val_loss: 0.2290 - val_accuracy: 0.8125\n",
            "Epoch 37/75\n",
            "163/163 [==============================] - 1s 5ms/step - loss: 0.0906 - accuracy: 0.9655 - val_loss: 0.3167 - val_accuracy: 0.8125\n",
            "Epoch 38/75\n",
            "163/163 [==============================] - 1s 5ms/step - loss: 0.0946 - accuracy: 0.9651 - val_loss: 0.3496 - val_accuracy: 0.8125\n",
            "Epoch 39/75\n",
            "163/163 [==============================] - 1s 5ms/step - loss: 0.0850 - accuracy: 0.9686 - val_loss: 0.3236 - val_accuracy: 0.8750\n",
            "Epoch 40/75\n",
            "163/163 [==============================] - 1s 5ms/step - loss: 0.0845 - accuracy: 0.9684 - val_loss: 0.1812 - val_accuracy: 0.8750\n",
            "Epoch 41/75\n",
            "163/163 [==============================] - 1s 5ms/step - loss: 0.0887 - accuracy: 0.9668 - val_loss: 0.2892 - val_accuracy: 0.8125\n",
            "Epoch 42/75\n",
            "163/163 [==============================] - 1s 5ms/step - loss: 0.0848 - accuracy: 0.9684 - val_loss: 0.5377 - val_accuracy: 0.8125\n",
            "Epoch 43/75\n",
            "163/163 [==============================] - 1s 5ms/step - loss: 0.0840 - accuracy: 0.9699 - val_loss: 0.2060 - val_accuracy: 0.9375\n",
            "Epoch 44/75\n",
            "163/163 [==============================] - 1s 5ms/step - loss: 0.0837 - accuracy: 0.9689 - val_loss: 0.3167 - val_accuracy: 0.8125\n",
            "Epoch 45/75\n",
            "163/163 [==============================] - 1s 5ms/step - loss: 0.0825 - accuracy: 0.9707 - val_loss: 0.2582 - val_accuracy: 0.8750\n",
            "Epoch 46/75\n",
            "163/163 [==============================] - 1s 5ms/step - loss: 0.1000 - accuracy: 0.9643 - val_loss: 0.2350 - val_accuracy: 0.8750\n",
            "Epoch 47/75\n",
            "163/163 [==============================] - 1s 5ms/step - loss: 0.0819 - accuracy: 0.9680 - val_loss: 0.2593 - val_accuracy: 0.9375\n",
            "Epoch 48/75\n",
            "163/163 [==============================] - 1s 5ms/step - loss: 0.0758 - accuracy: 0.9714 - val_loss: 0.3975 - val_accuracy: 0.8125\n",
            "Epoch 49/75\n",
            "163/163 [==============================] - 1s 5ms/step - loss: 0.0809 - accuracy: 0.9712 - val_loss: 0.3373 - val_accuracy: 0.8125\n",
            "Epoch 50/75\n",
            "163/163 [==============================] - 1s 5ms/step - loss: 0.0773 - accuracy: 0.9714 - val_loss: 0.9105 - val_accuracy: 0.7500\n",
            "Epoch 51/75\n",
            "163/163 [==============================] - 1s 5ms/step - loss: 0.0771 - accuracy: 0.9728 - val_loss: 0.3731 - val_accuracy: 0.8750\n",
            "Epoch 52/75\n",
            "163/163 [==============================] - 1s 5ms/step - loss: 0.0746 - accuracy: 0.9722 - val_loss: 0.5602 - val_accuracy: 0.8125\n",
            "Epoch 53/75\n",
            "163/163 [==============================] - 1s 5ms/step - loss: 0.0745 - accuracy: 0.9737 - val_loss: 0.5657 - val_accuracy: 0.7500\n",
            "Epoch 54/75\n",
            "163/163 [==============================] - 1s 5ms/step - loss: 0.0732 - accuracy: 0.9728 - val_loss: 0.2047 - val_accuracy: 0.9375\n",
            "Epoch 55/75\n",
            "163/163 [==============================] - 1s 5ms/step - loss: 0.0801 - accuracy: 0.9693 - val_loss: 0.2756 - val_accuracy: 0.9375\n",
            "Epoch 56/75\n",
            "163/163 [==============================] - 1s 5ms/step - loss: 0.0798 - accuracy: 0.9711 - val_loss: 0.3771 - val_accuracy: 0.8125\n",
            "Epoch 57/75\n",
            "163/163 [==============================] - 1s 5ms/step - loss: 0.0808 - accuracy: 0.9720 - val_loss: 0.3383 - val_accuracy: 0.8125\n",
            "Epoch 58/75\n",
            "163/163 [==============================] - 1s 5ms/step - loss: 0.0772 - accuracy: 0.9703 - val_loss: 0.2685 - val_accuracy: 0.8750\n",
            "Epoch 59/75\n",
            "163/163 [==============================] - 1s 5ms/step - loss: 0.0805 - accuracy: 0.9709 - val_loss: 0.4880 - val_accuracy: 0.8125\n",
            "Epoch 60/75\n",
            "163/163 [==============================] - 1s 5ms/step - loss: 0.0718 - accuracy: 0.9732 - val_loss: 0.2655 - val_accuracy: 0.8750\n",
            "Epoch 61/75\n",
            "163/163 [==============================] - 1s 5ms/step - loss: 0.0671 - accuracy: 0.9770 - val_loss: 0.2104 - val_accuracy: 0.9375\n",
            "Epoch 62/75\n",
            "163/163 [==============================] - 1s 6ms/step - loss: 0.0774 - accuracy: 0.9709 - val_loss: 0.4372 - val_accuracy: 0.8125\n",
            "Epoch 63/75\n",
            "163/163 [==============================] - 1s 5ms/step - loss: 0.0704 - accuracy: 0.9737 - val_loss: 0.4764 - val_accuracy: 0.8125\n",
            "Epoch 64/75\n",
            "163/163 [==============================] - 1s 5ms/step - loss: 0.0677 - accuracy: 0.9758 - val_loss: 0.9880 - val_accuracy: 0.7500\n",
            "Epoch 65/75\n",
            "163/163 [==============================] - 1s 6ms/step - loss: 0.0719 - accuracy: 0.9734 - val_loss: 1.0038 - val_accuracy: 0.6250\n",
            "Epoch 66/75\n",
            "163/163 [==============================] - 1s 5ms/step - loss: 0.0639 - accuracy: 0.9755 - val_loss: 0.4926 - val_accuracy: 0.8750\n",
            "Epoch 67/75\n",
            "163/163 [==============================] - 1s 5ms/step - loss: 0.0662 - accuracy: 0.9772 - val_loss: 0.4994 - val_accuracy: 0.8750\n",
            "Epoch 68/75\n",
            "163/163 [==============================] - 1s 5ms/step - loss: 0.0655 - accuracy: 0.9760 - val_loss: 0.4819 - val_accuracy: 0.8125\n",
            "Epoch 69/75\n",
            "163/163 [==============================] - 1s 5ms/step - loss: 0.0628 - accuracy: 0.9774 - val_loss: 0.6380 - val_accuracy: 0.8125\n",
            "Epoch 70/75\n",
            "163/163 [==============================] - 1s 6ms/step - loss: 0.0672 - accuracy: 0.9768 - val_loss: 0.4414 - val_accuracy: 0.8750\n",
            "Epoch 71/75\n",
            "163/163 [==============================] - 1s 5ms/step - loss: 0.0620 - accuracy: 0.9762 - val_loss: 0.5870 - val_accuracy: 0.8125\n",
            "Epoch 72/75\n",
            "163/163 [==============================] - 1s 6ms/step - loss: 0.0643 - accuracy: 0.9760 - val_loss: 0.5345 - val_accuracy: 0.8125\n",
            "Epoch 73/75\n",
            "163/163 [==============================] - 1s 5ms/step - loss: 0.0619 - accuracy: 0.9789 - val_loss: 0.5837 - val_accuracy: 0.8750\n",
            "Epoch 74/75\n",
            "163/163 [==============================] - 1s 5ms/step - loss: 0.0619 - accuracy: 0.9774 - val_loss: 0.3367 - val_accuracy: 0.8750\n",
            "Epoch 75/75\n",
            "163/163 [==============================] - 1s 5ms/step - loss: 0.0637 - accuracy: 0.9764 - val_loss: 0.4855 - val_accuracy: 0.8750\n"
          ]
        }
      ]
    },
    {
      "cell_type": "code",
      "source": [
        "plt.plot(hist.history['loss'])\n",
        "plt.plot(hist.history['val_loss'])\n",
        "plt.title('Model loss')\n",
        "plt.ylabel('Loss')\n",
        "plt.xlabel('Epoch')\n",
        "plt.legend(['Train', 'Val'], loc='upper right')\n",
        "plt.show()"
      ],
      "metadata": {
        "colab": {
          "base_uri": "https://localhost:8080/",
          "height": 295
        },
        "id": "WhNMrWjBM3if",
        "outputId": "37e560a7-c813-41b9-eea9-398995b98b16"
      },
      "execution_count": 10,
      "outputs": [
        {
          "output_type": "display_data",
          "data": {
            "image/png": "[encoded data removed]",
            "text/plain": [
              "<Figure size 432x288 with 1 Axes>"
            ]
          },
          "metadata": {
            "needs_background": "light"
          }
        }
      ]
    },
    {
      "cell_type": "code",
      "source": [
        "plt.plot(hist.history['accuracy'])\n",
        "plt.plot(hist.history['val_accuracy'])\n",
        "plt.title('Model accuracy')\n",
        "plt.ylabel('Accuracy')\n",
        "plt.xlabel('Epoch')\n",
        "plt.legend(['Train', 'Val'], loc='lower right')\n",
        "plt.show()"
      ],
      "metadata": {
        "colab": {
          "base_uri": "https://localhost:8080/",
          "height": 295
        },
        "id": "6f6agWFENtgZ",
        "outputId": "57fec2b7-9dd5-4588-fb2b-38c29e7720a9"
      },
      "execution_count": 11,
      "outputs": [
        {
          "output_type": "display_data",
          "data": {
            "image/png": "[encoded data removed]",
            "text/plain": [
              "<Figure size 432x288 with 1 Axes>"
            ]
          },
          "metadata": {
            "needs_background": "light"
          }
        }
      ]
    },
    {
      "cell_type": "code",
      "source": [
        "model.evaluate(xval,yval)\n"
      ],
      "metadata": {
        "colab": {
          "base_uri": "https://localhost:8080/"
        },
        "id": "ddCJtJT87Mjx",
        "outputId": "62a7cad6-29c9-4cf3-f07c-de111458b3e7"
      },
      "execution_count": 12,
      "outputs": [
        {
          "output_type": "stream",
          "name": "stdout",
          "text": [
            "1/1 [==============================] - 0s 40ms/step - loss: 0.4855 - accuracy: 0.8750\n"
          ]
        },
        {
          "output_type": "execute_result",
          "data": {
            "text/plain": [
              "[0.4855048656463623, 0.875]"
            ]
          },
          "metadata": {},
          "execution_count": 12
        }
      ]
    },
    {
      "cell_type": "code",
      "source": [
        "model = Sequential()\n",
        "model = Sequential([\n",
        "    Dense(128, activation='relu', input_shape=(2500,)),\n",
        "    Dense(128, activation='relu'),\n",
        "    Dense(128, activation='relu'),\n",
        "    Dense(32, activation='relu'),\n",
        "    Dense(1, activation='sigmoid'),\n",
        "])\n",
        "model.compile(optimizer='sgd',loss='binary_crossentropy',metrics=['accuracy'])\n",
        "model.fit(xtrain,ytrain, batch_size=32, epochs=75,validation_data=(xval, yval))"
      ],
      "metadata": {
        "colab": {
          "base_uri": "https://localhost:8080/"
        },
        "id": "aN5WinuD7RgU",
        "outputId": "3c54afe6-03a4-4d8c-c034-6705d067269e"
      },
      "execution_count": 14,
      "outputs": [
        {
          "output_type": "stream",
          "name": "stdout",
          "text": [
            "Epoch 1/75\n",
            "163/163 [==============================] - 3s 9ms/step - loss: 0.4699 - accuracy: 0.7757 - val_loss: 1.3571 - val_accuracy: 0.5000\n",
            "Epoch 2/75\n",
            "163/163 [==============================] - 1s 5ms/step - loss: 0.3399 - accuracy: 0.8616 - val_loss: 1.4983 - val_accuracy: 0.5000\n",
            "Epoch 3/75\n",
            "163/163 [==============================] - 1s 6ms/step - loss: 0.2723 - accuracy: 0.8863 - val_loss: 0.5649 - val_accuracy: 0.8125\n",
            "Epoch 4/75\n",
            "163/163 [==============================] - 2s 10ms/step - loss: 0.2134 - accuracy: 0.9155 - val_loss: 0.2982 - val_accuracy: 0.8750\n",
            "Epoch 5/75\n",
            "163/163 [==============================] - 1s 6ms/step - loss: 0.1921 - accuracy: 0.9281 - val_loss: 0.2690 - val_accuracy: 0.8750\n",
            "Epoch 6/75\n",
            "163/163 [==============================] - 1s 6ms/step - loss: 0.1829 - accuracy: 0.9317 - val_loss: 0.4717 - val_accuracy: 0.8125\n",
            "Epoch 7/75\n",
            "163/163 [==============================] - 1s 5ms/step - loss: 0.1710 - accuracy: 0.9327 - val_loss: 0.2921 - val_accuracy: 0.9375\n",
            "Epoch 8/75\n",
            "163/163 [==============================] - 1s 6ms/step - loss: 0.1581 - accuracy: 0.9369 - val_loss: 0.2795 - val_accuracy: 0.9375\n",
            "Epoch 9/75\n",
            "163/163 [==============================] - 1s 5ms/step - loss: 0.1575 - accuracy: 0.9379 - val_loss: 0.4211 - val_accuracy: 0.8125\n",
            "Epoch 10/75\n",
            "163/163 [==============================] - 1s 5ms/step - loss: 0.1575 - accuracy: 0.9365 - val_loss: 1.0700 - val_accuracy: 0.6250\n",
            "Epoch 11/75\n",
            "163/163 [==============================] - 1s 5ms/step - loss: 0.1525 - accuracy: 0.9404 - val_loss: 0.3228 - val_accuracy: 0.8750\n",
            "Epoch 12/75\n",
            "163/163 [==============================] - 1s 5ms/step - loss: 0.1450 - accuracy: 0.9436 - val_loss: 0.2707 - val_accuracy: 0.8125\n",
            "Epoch 13/75\n",
            "163/163 [==============================] - 1s 5ms/step - loss: 0.1327 - accuracy: 0.9494 - val_loss: 0.1745 - val_accuracy: 0.9375\n",
            "Epoch 14/75\n",
            "163/163 [==============================] - 1s 5ms/step - loss: 0.1339 - accuracy: 0.9469 - val_loss: 0.1763 - val_accuracy: 0.9375\n",
            "Epoch 15/75\n",
            "163/163 [==============================] - 1s 6ms/step - loss: 0.1277 - accuracy: 0.9503 - val_loss: 0.3123 - val_accuracy: 0.8750\n",
            "Epoch 16/75\n",
            "163/163 [==============================] - 1s 5ms/step - loss: 0.1229 - accuracy: 0.9515 - val_loss: 0.2412 - val_accuracy: 0.9375\n",
            "Epoch 17/75\n",
            "163/163 [==============================] - 1s 5ms/step - loss: 0.1267 - accuracy: 0.9496 - val_loss: 0.1796 - val_accuracy: 0.9375\n",
            "Epoch 18/75\n",
            "163/163 [==============================] - 1s 5ms/step - loss: 0.1276 - accuracy: 0.9507 - val_loss: 0.3892 - val_accuracy: 0.8125\n",
            "Epoch 19/75\n",
            "163/163 [==============================] - 1s 5ms/step - loss: 0.1373 - accuracy: 0.9440 - val_loss: 0.3975 - val_accuracy: 0.8125\n",
            "Epoch 20/75\n",
            "163/163 [==============================] - 1s 6ms/step - loss: 0.1267 - accuracy: 0.9475 - val_loss: 0.1728 - val_accuracy: 0.9375\n",
            "Epoch 21/75\n",
            "163/163 [==============================] - 1s 6ms/step - loss: 0.1217 - accuracy: 0.9532 - val_loss: 0.2275 - val_accuracy: 0.9375\n",
            "Epoch 22/75\n",
            "163/163 [==============================] - 1s 6ms/step - loss: 0.1216 - accuracy: 0.9515 - val_loss: 0.3517 - val_accuracy: 0.8125\n",
            "Epoch 23/75\n",
            "163/163 [==============================] - 1s 6ms/step - loss: 0.1214 - accuracy: 0.9513 - val_loss: 0.2756 - val_accuracy: 0.8125\n",
            "Epoch 24/75\n",
            "163/163 [==============================] - 1s 6ms/step - loss: 0.1146 - accuracy: 0.9548 - val_loss: 0.4581 - val_accuracy: 0.8125\n",
            "Epoch 25/75\n",
            "163/163 [==============================] - 1s 6ms/step - loss: 0.1104 - accuracy: 0.9592 - val_loss: 0.2970 - val_accuracy: 0.8125\n",
            "Epoch 26/75\n",
            "163/163 [==============================] - 1s 6ms/step - loss: 0.1073 - accuracy: 0.9595 - val_loss: 0.4342 - val_accuracy: 0.8125\n",
            "Epoch 27/75\n",
            "163/163 [==============================] - 1s 6ms/step - loss: 0.1158 - accuracy: 0.9538 - val_loss: 0.1922 - val_accuracy: 0.9375\n",
            "Epoch 28/75\n",
            "163/163 [==============================] - 1s 6ms/step - loss: 0.1100 - accuracy: 0.9601 - val_loss: 0.4204 - val_accuracy: 0.8125\n",
            "Epoch 29/75\n",
            "163/163 [==============================] - 1s 6ms/step - loss: 0.1094 - accuracy: 0.9572 - val_loss: 0.1581 - val_accuracy: 0.9375\n",
            "Epoch 30/75\n",
            "163/163 [==============================] - 1s 5ms/step - loss: 0.1000 - accuracy: 0.9609 - val_loss: 0.1634 - val_accuracy: 0.9375\n",
            "Epoch 31/75\n",
            "163/163 [==============================] - 1s 5ms/step - loss: 0.1079 - accuracy: 0.9590 - val_loss: 0.1793 - val_accuracy: 0.9375\n",
            "Epoch 32/75\n",
            "163/163 [==============================] - 1s 6ms/step - loss: 0.1009 - accuracy: 0.9601 - val_loss: 0.4609 - val_accuracy: 0.8125\n",
            "Epoch 33/75\n",
            "163/163 [==============================] - 1s 6ms/step - loss: 0.1019 - accuracy: 0.9592 - val_loss: 0.3813 - val_accuracy: 0.8125\n",
            "Epoch 34/75\n",
            "163/163 [==============================] - 1s 5ms/step - loss: 0.1005 - accuracy: 0.9609 - val_loss: 0.7050 - val_accuracy: 0.6875\n",
            "Epoch 35/75\n",
            "163/163 [==============================] - 1s 5ms/step - loss: 0.1011 - accuracy: 0.9622 - val_loss: 0.2254 - val_accuracy: 0.8750\n",
            "Epoch 36/75\n",
            "163/163 [==============================] - 1s 5ms/step - loss: 0.1032 - accuracy: 0.9620 - val_loss: 0.2411 - val_accuracy: 0.8125\n",
            "Epoch 37/75\n",
            "163/163 [==============================] - 1s 5ms/step - loss: 0.0963 - accuracy: 0.9622 - val_loss: 0.2853 - val_accuracy: 0.8125\n",
            "Epoch 38/75\n",
            "163/163 [==============================] - 1s 5ms/step - loss: 0.0910 - accuracy: 0.9680 - val_loss: 0.6343 - val_accuracy: 0.8125\n",
            "Epoch 39/75\n",
            "163/163 [==============================] - 1s 6ms/step - loss: 0.0944 - accuracy: 0.9630 - val_loss: 0.7994 - val_accuracy: 0.7500\n",
            "Epoch 40/75\n",
            "163/163 [==============================] - 1s 7ms/step - loss: 0.0896 - accuracy: 0.9659 - val_loss: 0.2436 - val_accuracy: 0.8125\n",
            "Epoch 41/75\n",
            "163/163 [==============================] - 2s 10ms/step - loss: 0.0894 - accuracy: 0.9653 - val_loss: 0.1788 - val_accuracy: 0.8750\n",
            "Epoch 42/75\n",
            "163/163 [==============================] - 1s 8ms/step - loss: 0.0930 - accuracy: 0.9653 - val_loss: 0.3338 - val_accuracy: 0.8125\n",
            "Epoch 43/75\n",
            "163/163 [==============================] - 1s 5ms/step - loss: 0.0912 - accuracy: 0.9643 - val_loss: 0.1419 - val_accuracy: 0.9375\n",
            "Epoch 44/75\n",
            "163/163 [==============================] - 1s 5ms/step - loss: 0.0882 - accuracy: 0.9645 - val_loss: 0.5871 - val_accuracy: 0.8125\n",
            "Epoch 45/75\n",
            "163/163 [==============================] - 1s 5ms/step - loss: 0.0928 - accuracy: 0.9645 - val_loss: 0.6262 - val_accuracy: 0.8125\n",
            "Epoch 46/75\n",
            "163/163 [==============================] - 1s 5ms/step - loss: 0.0943 - accuracy: 0.9645 - val_loss: 0.3389 - val_accuracy: 0.8125\n",
            "Epoch 47/75\n",
            "163/163 [==============================] - 1s 5ms/step - loss: 0.0877 - accuracy: 0.9684 - val_loss: 0.2243 - val_accuracy: 0.8125\n",
            "Epoch 48/75\n",
            "163/163 [==============================] - 1s 5ms/step - loss: 0.0879 - accuracy: 0.9668 - val_loss: 0.5849 - val_accuracy: 0.8125\n",
            "Epoch 49/75\n",
            "163/163 [==============================] - 1s 5ms/step - loss: 0.0838 - accuracy: 0.9693 - val_loss: 0.3540 - val_accuracy: 0.8125\n",
            "Epoch 50/75\n",
            "163/163 [==============================] - 1s 5ms/step - loss: 0.0845 - accuracy: 0.9663 - val_loss: 0.1429 - val_accuracy: 0.9375\n",
            "Epoch 51/75\n",
            "163/163 [==============================] - 1s 5ms/step - loss: 0.0810 - accuracy: 0.9693 - val_loss: 0.5543 - val_accuracy: 0.8125\n",
            "Epoch 52/75\n",
            "163/163 [==============================] - 1s 6ms/step - loss: 0.0818 - accuracy: 0.9676 - val_loss: 0.4804 - val_accuracy: 0.8125\n",
            "Epoch 53/75\n",
            "163/163 [==============================] - 1s 6ms/step - loss: 0.0817 - accuracy: 0.9697 - val_loss: 1.1899 - val_accuracy: 0.6250\n",
            "Epoch 54/75\n",
            "163/163 [==============================] - 1s 6ms/step - loss: 0.0941 - accuracy: 0.9651 - val_loss: 0.2443 - val_accuracy: 0.8125\n",
            "Epoch 55/75\n",
            "163/163 [==============================] - 1s 6ms/step - loss: 0.0850 - accuracy: 0.9680 - val_loss: 0.2434 - val_accuracy: 0.8750\n",
            "Epoch 56/75\n",
            "163/163 [==============================] - 1s 6ms/step - loss: 0.0787 - accuracy: 0.9722 - val_loss: 0.4839 - val_accuracy: 0.8125\n",
            "Epoch 57/75\n",
            "163/163 [==============================] - 1s 5ms/step - loss: 0.0828 - accuracy: 0.9693 - val_loss: 0.3911 - val_accuracy: 0.8125\n",
            "Epoch 58/75\n",
            "163/163 [==============================] - 1s 6ms/step - loss: 0.0783 - accuracy: 0.9701 - val_loss: 0.3075 - val_accuracy: 0.8125\n",
            "Epoch 59/75\n",
            "163/163 [==============================] - 1s 5ms/step - loss: 0.0719 - accuracy: 0.9743 - val_loss: 0.2372 - val_accuracy: 0.8750\n",
            "Epoch 60/75\n",
            "163/163 [==============================] - 1s 5ms/step - loss: 0.0796 - accuracy: 0.9703 - val_loss: 0.3172 - val_accuracy: 0.8750\n",
            "Epoch 61/75\n",
            "163/163 [==============================] - 1s 5ms/step - loss: 0.0776 - accuracy: 0.9728 - val_loss: 0.6939 - val_accuracy: 0.7500\n",
            "Epoch 62/75\n",
            "163/163 [==============================] - 1s 5ms/step - loss: 0.0740 - accuracy: 0.9707 - val_loss: 0.6531 - val_accuracy: 0.7500\n",
            "Epoch 63/75\n",
            "163/163 [==============================] - 1s 6ms/step - loss: 0.0758 - accuracy: 0.9714 - val_loss: 0.2834 - val_accuracy: 0.8750\n",
            "Epoch 64/75\n",
            "163/163 [==============================] - 1s 5ms/step - loss: 0.0768 - accuracy: 0.9705 - val_loss: 0.2640 - val_accuracy: 0.8750\n",
            "Epoch 65/75\n",
            "163/163 [==============================] - 1s 5ms/step - loss: 0.0723 - accuracy: 0.9712 - val_loss: 0.2362 - val_accuracy: 0.9375\n",
            "Epoch 66/75\n",
            "163/163 [==============================] - 1s 5ms/step - loss: 0.0751 - accuracy: 0.9699 - val_loss: 0.3409 - val_accuracy: 0.8750\n",
            "Epoch 67/75\n",
            "163/163 [==============================] - 1s 5ms/step - loss: 0.0674 - accuracy: 0.9766 - val_loss: 0.6145 - val_accuracy: 0.7500\n",
            "Epoch 68/75\n",
            "163/163 [==============================] - 1s 5ms/step - loss: 0.0708 - accuracy: 0.9722 - val_loss: 0.2295 - val_accuracy: 0.9375\n",
            "Epoch 69/75\n",
            "163/163 [==============================] - 1s 6ms/step - loss: 0.0645 - accuracy: 0.9762 - val_loss: 0.5102 - val_accuracy: 0.8125\n",
            "Epoch 70/75\n",
            "163/163 [==============================] - 1s 6ms/step - loss: 0.0683 - accuracy: 0.9747 - val_loss: 0.7855 - val_accuracy: 0.8125\n",
            "Epoch 71/75\n",
            "163/163 [==============================] - 1s 6ms/step - loss: 0.0659 - accuracy: 0.9741 - val_loss: 0.5240 - val_accuracy: 0.7500\n",
            "Epoch 72/75\n",
            "163/163 [==============================] - 1s 6ms/step - loss: 0.0654 - accuracy: 0.9762 - val_loss: 0.4073 - val_accuracy: 0.8125\n",
            "Epoch 73/75\n",
            "163/163 [==============================] - 1s 5ms/step - loss: 0.0668 - accuracy: 0.9760 - val_loss: 0.2093 - val_accuracy: 0.9375\n",
            "Epoch 74/75\n",
            "163/163 [==============================] - 1s 6ms/step - loss: 0.0616 - accuracy: 0.9789 - val_loss: 1.1126 - val_accuracy: 0.6875\n",
            "Epoch 75/75\n",
            "163/163 [==============================] - 1s 6ms/step - loss: 0.0743 - accuracy: 0.9709 - val_loss: 0.1994 - val_accuracy: 0.9375\n"
          ]
        },
        {
          "output_type": "execute_result",
          "data": {
            "text/plain": [
              "<keras.callbacks.History at 0x7f0a410c5b10>"
            ]
          },
          "metadata": {},
          "execution_count": 14
        }
      ]
    },
    {
      "cell_type": "code",
      "source": [
        "model.evaluate(xval,yval)"
      ],
      "metadata": {
        "colab": {
          "base_uri": "https://localhost:8080/"
        },
        "id": "bthGPHy2770A",
        "outputId": "d7c6dd3e-a36a-4b9a-8456-3e707200a985"
      },
      "execution_count": 15,
      "outputs": [
        {
          "output_type": "stream",
          "name": "stdout",
          "text": [
            "1/1 [==============================] - 0s 36ms/step - loss: 0.1994 - accuracy: 0.9375\n"
          ]
        },
        {
          "output_type": "execute_result",
          "data": {
            "text/plain": [
              "[0.19941306114196777, 0.9375]"
            ]
          },
          "metadata": {},
          "execution_count": 15
        }
      ]
    },
    {
      "cell_type": "code",
      "source": [
        "plt.plot(hist.history['loss'])\n",
        "plt.plot(hist.history['val_loss'])\n",
        "plt.title('Model loss')\n",
        "plt.ylabel('Loss')\n",
        "plt.xlabel('Epoch')\n",
        "plt.legend(['Train', 'Val'], loc='upper right')\n",
        "plt.show()"
      ],
      "metadata": {
        "colab": {
          "base_uri": "https://localhost:8080/",
          "height": 295
        },
        "id": "52M304xm8BRE",
        "outputId": "e118ff1e-fa27-4cfb-cbc2-2b43acc1d5d4"
      },
      "execution_count": 16,
      "outputs": [
        {
          "output_type": "display_data",
          "data": {
            "image/png": "[encoded data removed]",
            "text/plain": [
              "<Figure size 432x288 with 1 Axes>"
            ]
          },
          "metadata": {
            "needs_background": "light"
          }
        }
      ]
    },
    {
      "cell_type": "code",
      "source": [
        "plt.plot(hist.history['accuracy'])\n",
        "plt.plot(hist.history['val_accuracy'])\n",
        "plt.title('Model accuracy')\n",
        "plt.ylabel('Accuracy')\n",
        "plt.xlabel('Epoch')\n",
        "plt.legend(['Train', 'Val'], loc='lower right')\n",
        "plt.show()"
      ],
      "metadata": {
        "colab": {
          "base_uri": "https://localhost:8080/",
          "height": 295
        },
        "id": "xv8rkzco8GUK",
        "outputId": "55d86e38-35dd-4294-a343-a3a807a3262b"
      },
      "execution_count": 17,
      "outputs": [
        {
          "output_type": "display_data",
          "data": {
            "image/png": "[encoded data removed]",
            "text/plain": [
              "<Figure size 432x288 with 1 Axes>"
            ]
          },
          "metadata": {
            "needs_background": "light"
          }
        }
      ]
    },
    {
      "cell_type": "code",
      "source": [
        "import pickle"
      ],
      "metadata": {
        "id": "F86tbzob8sEy"
      },
      "execution_count": 18,
      "outputs": []
    },
    {
      "cell_type": "code",
      "source": [
        "pickle.dump(model, open('model.pkl', 'wb'))"
      ],
      "metadata": {
        "colab": {
          "base_uri": "https://localhost:8080/"
        },
        "id": "NMKyI2mm9WZD",
        "outputId": "8a2cccda-6178-43ec-a138-3ca303221e0a"
      },
      "execution_count": 19,
      "outputs": [
        {
          "output_type": "stream",
          "name": "stdout",
          "text": [
            "INFO:tensorflow:Assets written to: ram://66a97ff0-2b72-424b-bdd9-71fe712bc49d/assets\n"
          ]
        }
      ]
    }
  ]
}