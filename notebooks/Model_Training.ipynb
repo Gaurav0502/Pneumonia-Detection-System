{
 "cells": [
  {
   "cell_type": "markdown",
   "id": "c86d1638",
   "metadata": {},
   "source": [
    "# Importing Required Modules"
   ]
  },
  {
   "cell_type": "code",
   "execution_count": 1,
   "id": "a6d5889e",
   "metadata": {},
   "outputs": [],
   "source": [
    "import pandas as pd\n",
    "import numpy as np\n",
    "import matplotlib.pyplot as plt"
   ]
  },
  {
   "cell_type": "markdown",
   "id": "9d04aa65",
   "metadata": {},
   "source": [
    "# Creating dataframes for the Model"
   ]
  },
  {
   "cell_type": "code",
   "execution_count": 2,
   "id": "1510c529",
   "metadata": {},
   "outputs": [
    {
     "name": "stdout",
     "output_type": "stream",
     "text": [
      "      Unnamed: 0         0         1         2         3         4         5  \\\n",
      "0              0  0.081854  0.162635  0.277852  0.343025  0.378866  0.413383   \n",
      "1              1  0.102432  0.153893  0.206869  0.336203  0.382572  0.402428   \n",
      "2              2  0.015708  0.103597  0.198936  0.276845  0.310507  0.321577   \n",
      "3              3  0.179396  0.239438  0.307044  0.365174  0.401451  0.433398   \n",
      "4              4  0.304027  0.241181  0.168301  0.142746  0.152611  0.162520   \n",
      "...          ...       ...       ...       ...       ...       ...       ...   \n",
      "5211        3870  0.001449  0.049044  0.169362  0.245682  0.284311  0.384226   \n",
      "5212        3871  0.361376  0.360008  0.406875  0.422987  0.375033  0.349482   \n",
      "5213        3872  0.097749  0.051935  0.078719  0.249755  0.219368  0.241758   \n",
      "5214        3873  0.173169  0.187989  0.224778  0.247073  0.168668  0.162465   \n",
      "5215        3874  0.037483  0.050916  0.119764  0.217049  0.170403  0.172652   \n",
      "\n",
      "             6         7         8  ...      2491      2492      2493  \\\n",
      "0     0.500604  0.576635  0.578326  ...  0.760520  0.591159  0.330508   \n",
      "1     0.401487  0.316365  0.242109  ...  0.511802  0.540109  0.507548   \n",
      "2     0.338375  0.424047  0.444712  ...  0.705517  0.614661  0.547810   \n",
      "3     0.526361  0.588114  0.604504  ...  0.677840  0.673540  0.635385   \n",
      "4     0.158321  0.124125  0.061401  ...  0.598231  0.553946  0.492723   \n",
      "...        ...       ...       ...  ...       ...       ...       ...   \n",
      "5211  0.477189  0.494238  0.535596  ...  0.536375  0.559885  0.609224   \n",
      "5212  0.322766  0.301724  0.288219  ...  0.669690  0.668160  0.570942   \n",
      "5213  0.272913  0.322021  0.376334  ...  0.532000  0.546920  0.555393   \n",
      "5214  0.292287  0.397801  0.458893  ...  0.731037  0.761354  0.740456   \n",
      "5215  0.178691  0.177133  0.170707  ...  0.415765  0.488258  0.480425   \n",
      "\n",
      "          2494      2495      2496      2497      2498      2499       type  \n",
      "0     0.169010  0.187909  0.214645  0.233160  0.246771  0.255128     Normal  \n",
      "1     0.547860  0.338211  0.083789  0.005638  0.000022  0.000000     Normal  \n",
      "2     0.512900  0.351184  0.164831  0.017765  0.000117  0.001420     Normal  \n",
      "3     0.511296  0.312104  0.112647  0.016304  0.035330  0.043289     Normal  \n",
      "4     0.477791  0.490165  0.321024  0.099308  0.002299  0.000000     Normal  \n",
      "...        ...       ...       ...       ...       ...       ...        ...  \n",
      "5211  0.575055  0.447435  0.203365  0.037498  0.000521  0.000000  Pneumonia  \n",
      "5212  0.377770  0.230710  0.088845  0.065441  0.067729  0.074407  Pneumonia  \n",
      "5213  0.590602  0.581182  0.507816  0.403284  0.263492  0.146881  Pneumonia  \n",
      "5214  0.620520  0.394302  0.203134  0.100532  0.092137  0.103122  Pneumonia  \n",
      "5215  0.391916  0.236692  0.140552  0.038001  0.042875  0.056852  Pneumonia  \n",
      "\n",
      "[5216 rows x 2502 columns]\n"
     ]
    }
   ],
   "source": [
    "df=pd.read_csv('train.csv')\n",
    "print(df)"
   ]
  },
  {
   "cell_type": "code",
   "execution_count": 3,
   "id": "d9348a0f",
   "metadata": {},
   "outputs": [],
   "source": [
    "xtrain = df[df.columns[range(2,2501)]]\n",
    "ytrain = df[df.columns[-1]]"
   ]
  },
  {
   "cell_type": "code",
   "execution_count": 4,
   "id": "fe2c0e90",
   "metadata": {},
   "outputs": [
    {
     "name": "stdout",
     "output_type": "stream",
     "text": [
      "    Unnamed: 0         0         1         2         3         4         5  \\\n",
      "0            0  0.090265  0.151757  0.287090  0.405232  0.457681  0.466542   \n",
      "1            1  0.317278  0.150989  0.052835  0.035858  0.019328  0.005076   \n",
      "2            2  0.262639  0.387552  0.467830  0.514264  0.628833  0.689737   \n",
      "3            3  0.269848  0.211767  0.115692  0.084487  0.066895  0.054488   \n",
      "4            4  0.124831  0.091084  0.166966  0.219295  0.248790  0.258376   \n",
      "5            5  0.220775  0.288004  0.434977  0.440711  0.457434  0.465287   \n",
      "6            6  0.095524  0.148794  0.171945  0.168092  0.108576  0.046366   \n",
      "7            7  0.022047  0.055073  0.094745  0.129225  0.159926  0.178625   \n",
      "8            0  0.082085  0.124119  0.237056  0.312504  0.207963  0.242521   \n",
      "9            1  0.006667  0.013462  0.179550  0.138058  0.112079  0.262939   \n",
      "10           2  0.358911  0.393313  0.335998  0.426395  0.503835  0.544665   \n",
      "11           3  0.019712  0.094630  0.204028  0.347768  0.397955  0.466772   \n",
      "12           4  0.015813  0.104324  0.268860  0.389267  0.451074  0.520844   \n",
      "13           5  0.000076  0.005422  0.151286  0.188849  0.126401  0.252458   \n",
      "14           6  0.217805  0.239803  0.361642  0.284762  0.316476  0.379298   \n",
      "15           7  0.003251  0.013327  0.044644  0.089305  0.142386  0.251098   \n",
      "\n",
      "           6         7         8  ...      2491      2492      2493      2494  \\\n",
      "0   0.532181  0.600888  0.598140  ...  0.700943  0.675664  0.576725  0.274264   \n",
      "1   0.000993  0.004529  0.000441  ...  0.679417  0.478855  0.156777  0.005614   \n",
      "2   0.697894  0.641414  0.563562  ...  0.795313  0.803022  0.793797  0.756357   \n",
      "3   0.043586  0.034330  0.015354  ...  0.513655  0.567146  0.421498  0.175365   \n",
      "4   0.276915  0.405980  0.436840  ...  0.610109  0.394919  0.127044  0.059372   \n",
      "5   0.458633  0.470122  0.580929  ...  0.766790  0.768655  0.769182  0.723458   \n",
      "6   0.007444  0.007759  0.004624  ...  0.334690  0.427277  0.541564  0.535082   \n",
      "7   0.234206  0.378787  0.473314  ...  0.346100  0.140822  0.009970  0.000045   \n",
      "8   0.369221  0.330528  0.207347  ...  0.622888  0.600042  0.565108  0.469363   \n",
      "9   0.256719  0.133362  0.222801  ...  0.490208  0.371116  0.205142  0.078812   \n",
      "10  0.577664  0.600340  0.590851  ...  0.652768  0.593175  0.608978  0.491193   \n",
      "11  0.515021  0.533450  0.499851  ...  0.693537  0.686780  0.632220  0.569468   \n",
      "12  0.571474  0.611788  0.579213  ...  0.669517  0.697067  0.658130  0.511214   \n",
      "13  0.413384  0.413442  0.434665  ...  0.619512  0.438001  0.226304  0.049222   \n",
      "14  0.262322  0.220889  0.239182  ...  0.687096  0.607585  0.417335  0.148450   \n",
      "15  0.400117  0.410417  0.419993  ...  0.163036  0.008133  0.000025  0.000000   \n",
      "\n",
      "        2495      2496          2497          2498      2499       type  \n",
      "0   0.047644  0.000828  1.815899e-11  0.000000e+00  0.000000     Normal  \n",
      "1   0.000002  0.000000  0.000000e+00  0.000000e+00  0.000000     Normal  \n",
      "2   0.697951  0.381402  5.514905e-02  6.263127e-04  0.000002     Normal  \n",
      "3   0.013744  0.003936  2.058174e-04  1.275188e-03  0.000204     Normal  \n",
      "4   0.083518  0.094993  1.223609e-01  1.367575e-01  0.121619     Normal  \n",
      "5   0.635824  0.480730  2.497812e-01  9.012980e-02  0.051224     Normal  \n",
      "6   0.415833  0.139520  4.427873e-03  7.539054e-07  0.000000     Normal  \n",
      "7   0.000000  0.000000  0.000000e+00  0.000000e+00  0.000000     Normal  \n",
      "8   0.351398  0.169658  7.458555e-02  1.064989e-02  0.021352  Pneumonia  \n",
      "9   0.009406  0.017103  2.818338e-02  3.117986e-02  0.031372  Pneumonia  \n",
      "10  0.217116  0.055553  2.140579e-03  1.045150e-04  0.005584  Pneumonia  \n",
      "11  0.538673  0.241449  3.410877e-02  4.895412e-03  0.007469  Pneumonia  \n",
      "12  0.189606  0.019838  4.932895e-03  7.054568e-03  0.008971  Pneumonia  \n",
      "13  0.035900  0.049800  2.026122e-01  4.488737e-01  0.148772  Pneumonia  \n",
      "14  0.012171  0.000215  2.697251e-03  8.005881e-03  0.026224  Pneumonia  \n",
      "15  0.000000  0.000000  0.000000e+00  2.819948e-06  0.000160  Pneumonia  \n",
      "\n",
      "[16 rows x 2502 columns]\n"
     ]
    }
   ],
   "source": [
    "df1=pd.read_csv('validation.csv')\n",
    "print(df1)\n",
    "xval = df1[df.columns[range(2,2501)]]\n",
    "yval = df1[df.columns[-1]]"
   ]
  },
  {
   "cell_type": "markdown",
   "id": "7ebfbf59",
   "metadata": {},
   "source": [
    "# Building the Model"
   ]
  },
  {
   "cell_type": "markdown",
   "id": "45038bda",
   "metadata": {},
   "source": [
    "## Logistic Regression"
   ]
  },
  {
   "cell_type": "markdown",
   "id": "4eb0ebf4",
   "metadata": {},
   "source": [
    "### Packages"
   ]
  },
  {
   "cell_type": "code",
   "execution_count": 5,
   "id": "199a5d6e",
   "metadata": {},
   "outputs": [],
   "source": [
    "from sklearn.linear_model import LogisticRegression\n",
    "from sklearn.metrics import classification_report\n",
    "from sklearn import metrics"
   ]
  },
  {
   "cell_type": "markdown",
   "id": "3d146024",
   "metadata": {},
   "source": [
    "### Parameter testing"
   ]
  },
  {
   "cell_type": "code",
   "execution_count": 6,
   "id": "388d39bd",
   "metadata": {},
   "outputs": [
    {
     "name": "stdout",
     "output_type": "stream",
     "text": [
      "0.75\n"
     ]
    },
    {
     "name": "stderr",
     "output_type": "stream",
     "text": [
      "C:\\Users\\acer\\anaconda3\\lib\\site-packages\\sklearn\\linear_model\\_logistic.py:763: ConvergenceWarning: lbfgs failed to converge (status=1):\n",
      "STOP: TOTAL NO. of ITERATIONS REACHED LIMIT.\n",
      "\n",
      "Increase the number of iterations (max_iter) or scale the data as shown in:\n",
      "    https://scikit-learn.org/stable/modules/preprocessing.html\n",
      "Please also refer to the documentation for alternative solver options:\n",
      "    https://scikit-learn.org/stable/modules/linear_model.html#logistic-regression\n",
      "  n_iter_i = _check_optimize_result(\n"
     ]
    }
   ],
   "source": [
    "clf = LogisticRegression(random_state=0).fit(xtrain, ytrain)\n",
    "print(clf.score(xval,yval))"
   ]
  },
  {
   "cell_type": "code",
   "execution_count": 7,
   "id": "a5d73b1d",
   "metadata": {},
   "outputs": [
    {
     "name": "stdout",
     "output_type": "stream",
     "text": [
      "0.875\n"
     ]
    }
   ],
   "source": [
    "clf = LogisticRegression(max_iter=10000,C=0.1 ).fit(xtrain, ytrain)\n",
    "print(clf.score(xval,yval))"
   ]
  },
  {
   "cell_type": "markdown",
   "id": "5af3f3a6",
   "metadata": {},
   "source": [
    "Acceptable Model"
   ]
  },
  {
   "cell_type": "code",
   "execution_count": 8,
   "id": "8a42419d",
   "metadata": {},
   "outputs": [
    {
     "name": "stdout",
     "output_type": "stream",
     "text": [
      "0.75\n"
     ]
    }
   ],
   "source": [
    "clf = LogisticRegression(penalty='none',max_iter=10000).fit(xtrain, ytrain)\n",
    "print(clf.score(xval,yval))"
   ]
  },
  {
   "cell_type": "markdown",
   "id": "7d3976b1",
   "metadata": {},
   "source": [
    "Low Validation score"
   ]
  },
  {
   "cell_type": "code",
   "execution_count": 9,
   "id": "ab8a5918",
   "metadata": {},
   "outputs": [
    {
     "name": "stdout",
     "output_type": "stream",
     "text": [
      "0.75\n"
     ]
    }
   ],
   "source": [
    "clf = LogisticRegression(solver='newton-cg',penalty='none').fit(xtrain, ytrain)\n",
    "print(clf.score(xval,yval))"
   ]
  },
  {
   "cell_type": "markdown",
   "id": "0a484d9a",
   "metadata": {},
   "source": [
    "Low Validation score"
   ]
  },
  {
   "cell_type": "code",
   "execution_count": 10,
   "id": "50779478",
   "metadata": {},
   "outputs": [
    {
     "name": "stdout",
     "output_type": "stream",
     "text": [
      "0.75\n"
     ]
    }
   ],
   "source": [
    "clf = LogisticRegression(solver='newton-cg',penalty='l2').fit(xtrain, ytrain)\n",
    "print(clf.score(xval,yval))"
   ]
  },
  {
   "cell_type": "markdown",
   "id": "9cec058e",
   "metadata": {},
   "source": [
    "Low Validation score"
   ]
  },
  {
   "cell_type": "code",
   "execution_count": 11,
   "id": "51cb960d",
   "metadata": {},
   "outputs": [
    {
     "name": "stdout",
     "output_type": "stream",
     "text": [
      "0.8125\n"
     ]
    }
   ],
   "source": [
    "clf = LogisticRegression(solver='newton-cg',penalty='l2',C=0.01).fit(xtrain, ytrain)\n",
    "print(clf.score(xval,yval))"
   ]
  },
  {
   "cell_type": "markdown",
   "id": "f8e31d3f",
   "metadata": {},
   "source": [
    "Acceptable Model"
   ]
  },
  {
   "cell_type": "code",
   "execution_count": 12,
   "id": "97ccbf3d",
   "metadata": {},
   "outputs": [
    {
     "name": "stdout",
     "output_type": "stream",
     "text": [
      "0.875\n"
     ]
    }
   ],
   "source": [
    "clf = LogisticRegression(solver='newton-cg',penalty='l2',C=0.1).fit(xtrain, ytrain)\n",
    "print(clf.score(xval,yval))"
   ]
  },
  {
   "cell_type": "markdown",
   "id": "cf8f69b4",
   "metadata": {},
   "source": [
    "Acceptable Model"
   ]
  },
  {
   "cell_type": "code",
   "execution_count": 13,
   "id": "8d864457",
   "metadata": {},
   "outputs": [
    {
     "name": "stdout",
     "output_type": "stream",
     "text": [
      "0.75\n"
     ]
    }
   ],
   "source": [
    "clf = LogisticRegression(solver='liblinear',penalty='l2').fit(xtrain, ytrain)\n",
    "print(clf.score(xval,yval))"
   ]
  },
  {
   "cell_type": "markdown",
   "id": "1de5aa94",
   "metadata": {},
   "source": [
    "Low Validation score"
   ]
  },
  {
   "cell_type": "code",
   "execution_count": 14,
   "id": "03982e35",
   "metadata": {},
   "outputs": [
    {
     "name": "stdout",
     "output_type": "stream",
     "text": [
      "0.8125\n"
     ]
    }
   ],
   "source": [
    "clf = LogisticRegression(solver='liblinear',penalty='l2', C=0.1).fit(xtrain, ytrain)\n",
    "print(clf.score(xval,yval))"
   ]
  },
  {
   "cell_type": "markdown",
   "id": "3840b41d",
   "metadata": {},
   "source": [
    "Acceptable Model"
   ]
  },
  {
   "cell_type": "code",
   "execution_count": 15,
   "id": "2e92c1ed",
   "metadata": {},
   "outputs": [
    {
     "name": "stdout",
     "output_type": "stream",
     "text": [
      "0.875\n"
     ]
    }
   ],
   "source": [
    "clf = LogisticRegression(solver='liblinear',penalty='l1').fit(xtrain, ytrain)\n",
    "print(clf.score(xval,yval))"
   ]
  },
  {
   "cell_type": "markdown",
   "id": "f3197d4a",
   "metadata": {},
   "source": [
    "Acceptable Model"
   ]
  },
  {
   "cell_type": "code",
   "execution_count": 16,
   "id": "3773dd7a",
   "metadata": {},
   "outputs": [
    {
     "name": "stdout",
     "output_type": "stream",
     "text": [
      "0.875\n"
     ]
    }
   ],
   "source": [
    "clf = LogisticRegression(solver='liblinear',penalty='l1', C=0.2).fit(xtrain, ytrain)\n",
    "print(clf.score(xval,yval))"
   ]
  },
  {
   "cell_type": "markdown",
   "id": "02f43b56",
   "metadata": {},
   "source": [
    "Acceptable Model"
   ]
  },
  {
   "cell_type": "code",
   "execution_count": 17,
   "id": "3c93a1f6",
   "metadata": {},
   "outputs": [
    {
     "name": "stdout",
     "output_type": "stream",
     "text": [
      "0.8125\n"
     ]
    },
    {
     "name": "stderr",
     "output_type": "stream",
     "text": [
      "C:\\Users\\acer\\anaconda3\\lib\\site-packages\\sklearn\\linear_model\\_sag.py:328: ConvergenceWarning: The max_iter was reached which means the coef_ did not converge\n",
      "  warnings.warn(\"The max_iter was reached which means \"\n"
     ]
    }
   ],
   "source": [
    "clf = LogisticRegression(solver='sag',penalty='l2').fit(xtrain, ytrain)\n",
    "print(clf.score(xval,yval))"
   ]
  },
  {
   "cell_type": "markdown",
   "id": "1eb53775",
   "metadata": {},
   "source": [
    "Low Validation score"
   ]
  },
  {
   "cell_type": "code",
   "execution_count": 18,
   "id": "f115ba32",
   "metadata": {},
   "outputs": [
    {
     "name": "stdout",
     "output_type": "stream",
     "text": [
      "0.8125\n"
     ]
    },
    {
     "name": "stderr",
     "output_type": "stream",
     "text": [
      "C:\\Users\\acer\\anaconda3\\lib\\site-packages\\sklearn\\linear_model\\_sag.py:328: ConvergenceWarning: The max_iter was reached which means the coef_ did not converge\n",
      "  warnings.warn(\"The max_iter was reached which means \"\n"
     ]
    }
   ],
   "source": [
    "clf = LogisticRegression(solver='sag',penalty='none').fit(xtrain, ytrain)\n",
    "print(clf.score(xval,yval))"
   ]
  },
  {
   "cell_type": "markdown",
   "id": "f0937ca7",
   "metadata": {},
   "source": [
    "Acceptable Model"
   ]
  },
  {
   "cell_type": "code",
   "execution_count": 19,
   "id": "00921ce6",
   "metadata": {},
   "outputs": [
    {
     "name": "stdout",
     "output_type": "stream",
     "text": [
      "0.875\n"
     ]
    },
    {
     "name": "stderr",
     "output_type": "stream",
     "text": [
      "C:\\Users\\acer\\anaconda3\\lib\\site-packages\\sklearn\\linear_model\\_sag.py:328: ConvergenceWarning: The max_iter was reached which means the coef_ did not converge\n",
      "  warnings.warn(\"The max_iter was reached which means \"\n"
     ]
    }
   ],
   "source": [
    "clf = LogisticRegression(solver='sag',penalty='l2', C=0.1).fit(xtrain, ytrain)\n",
    "print(clf.score(xval,yval))"
   ]
  },
  {
   "cell_type": "markdown",
   "id": "e3c0a3b4",
   "metadata": {},
   "source": [
    "Acceptable Model"
   ]
  },
  {
   "cell_type": "markdown",
   "id": "253e6237",
   "metadata": {},
   "source": [
    "## KNN"
   ]
  },
  {
   "cell_type": "markdown",
   "id": "56465706",
   "metadata": {},
   "source": [
    "### Packages"
   ]
  },
  {
   "cell_type": "code",
   "execution_count": 20,
   "id": "8b359714",
   "metadata": {},
   "outputs": [],
   "source": [
    "from sklearn.neighbors import KNeighborsClassifier"
   ]
  },
  {
   "cell_type": "markdown",
   "id": "812d06c2",
   "metadata": {},
   "source": [
    "### Testing Error Rate"
   ]
  },
  {
   "cell_type": "code",
   "execution_count": 21,
   "id": "56b63963",
   "metadata": {},
   "outputs": [],
   "source": [
    "error_rate = []\n",
    "for i in range(1,50):\n",
    "    knn = KNeighborsClassifier(n_neighbors=i)\n",
    "    knn.fit(xtrain,ytrain)\n",
    "    pred_i = knn.predict(xval)\n",
    "    error_rate.append(np.mean(pred_i != yval))"
   ]
  },
  {
   "cell_type": "code",
   "execution_count": 22,
   "id": "3206bebc",
   "metadata": {},
   "outputs": [
    {
     "data": {
      "text/plain": [
       "Text(0, 0.5, 'Error Rate')"
      ]
     },
     "execution_count": 22,
     "metadata": {},
     "output_type": "execute_result"
    },
    {
     "data": {
      "image/png": "[encoded data removed]",
      "text/plain": [
       "<Figure size 1440x720 with 1 Axes>"
      ]
     },
     "metadata": {
      "needs_background": "light"
     },
     "output_type": "display_data"
    }
   ],
   "source": [
    "plt.figure(figsize=(20,10))\n",
    "plt.plot(range(1,50),error_rate,marker='o',markerfacecolor='red')\n",
    "plt.title('Error Rate vs. K Value')\n",
    "plt.xlabel('K')\n",
    "plt.ylabel('Error Rate')"
   ]
  },
  {
   "cell_type": "markdown",
   "id": "4404cf60",
   "metadata": {},
   "source": [
    "#### Min error at 3, 5, 9, and 13"
   ]
  },
  {
   "cell_type": "markdown",
   "id": "4971d549",
   "metadata": {},
   "source": [
    "### Testing Accuracy"
   ]
  },
  {
   "cell_type": "code",
   "execution_count": 23,
   "id": "8a589f5e",
   "metadata": {},
   "outputs": [],
   "source": [
    "acc = []\n",
    "for i in range(1,50):\n",
    "    neigh = KNeighborsClassifier(n_neighbors = i).fit(xtrain,ytrain)\n",
    "    yhat = neigh.predict(xval)\n",
    "    acc.append(metrics.accuracy_score(yval, yhat))"
   ]
  },
  {
   "cell_type": "code",
   "execution_count": 24,
   "id": "c003b8e6",
   "metadata": {},
   "outputs": [
    {
     "data": {
      "text/plain": [
       "Text(0, 0.5, 'Accuracy')"
      ]
     },
     "execution_count": 24,
     "metadata": {},
     "output_type": "execute_result"
    },
    {
     "data": {
      "image/png": "[encoded data removed]",
      "text/plain": [
       "<Figure size 1440x720 with 1 Axes>"
      ]
     },
     "metadata": {
      "needs_background": "light"
     },
     "output_type": "display_data"
    }
   ],
   "source": [
    "plt.figure(figsize=(20,10))\n",
    "plt.plot(range(1,50),acc,marker='o',markerfacecolor='red')\n",
    "plt.title('Accuracy vs. K Value')\n",
    "plt.xlabel('K')\n",
    "plt.ylabel('Accuracy')"
   ]
  },
  {
   "cell_type": "markdown",
   "id": "0e223582",
   "metadata": {},
   "source": [
    "### Max accuracy of 0.625 using knn, thereefore we will not select this model"
   ]
  },
  {
   "cell_type": "markdown",
   "id": "978b89cc",
   "metadata": {},
   "source": [
    "# SVM"
   ]
  },
  {
   "cell_type": "markdown",
   "id": "9817f8f8",
   "metadata": {},
   "source": [
    "## Packages"
   ]
  },
  {
   "cell_type": "code",
   "execution_count": 25,
   "id": "48e2ea7d",
   "metadata": {},
   "outputs": [],
   "source": [
    "from sklearn import svm"
   ]
  },
  {
   "cell_type": "code",
   "execution_count": 26,
   "id": "5abd5f75",
   "metadata": {},
   "outputs": [
    {
     "name": "stdout",
     "output_type": "stream",
     "text": [
      "0.75\n"
     ]
    }
   ],
   "source": [
    "clf = svm.SVC()\n",
    "clf.fit(xtrain, ytrain)\n",
    "print(clf.score(xval,yval))"
   ]
  },
  {
   "cell_type": "markdown",
   "id": "100d52a6",
   "metadata": {},
   "source": [
    "Low Validation score"
   ]
  },
  {
   "cell_type": "code",
   "execution_count": 27,
   "id": "89620561",
   "metadata": {},
   "outputs": [
    {
     "name": "stdout",
     "output_type": "stream",
     "text": [
      "0.8125\n"
     ]
    }
   ],
   "source": [
    "clf = svm.SVC(gamma='auto')\n",
    "clf.fit(xtrain, ytrain)\n",
    "print(clf.score(xval,yval))"
   ]
  },
  {
   "cell_type": "markdown",
   "id": "42149cd3",
   "metadata": {},
   "source": [
    "Acceptable Model"
   ]
  },
  {
   "cell_type": "code",
   "execution_count": 28,
   "id": "e9722d72",
   "metadata": {},
   "outputs": [
    {
     "name": "stdout",
     "output_type": "stream",
     "text": [
      "0.5\n"
     ]
    }
   ],
   "source": [
    "clf = svm.SVC(gamma='auto', C=0.1)\n",
    "clf.fit(xtrain, ytrain)\n",
    "print(clf.score(xval,yval))"
   ]
  },
  {
   "cell_type": "markdown",
   "id": "5b336c3e",
   "metadata": {},
   "source": [
    "Low Validation score"
   ]
  },
  {
   "cell_type": "code",
   "execution_count": 29,
   "id": "345d04c5",
   "metadata": {},
   "outputs": [
    {
     "name": "stdout",
     "output_type": "stream",
     "text": [
      "0.8125\n"
     ]
    }
   ],
   "source": [
    "clf = svm.SVC(gamma='auto', C=2)\n",
    "clf.fit(xtrain, ytrain)\n",
    "print(clf.score(xval,yval))"
   ]
  },
  {
   "cell_type": "markdown",
   "id": "d3fc094e",
   "metadata": {},
   "source": [
    "Acceptable Model"
   ]
  },
  {
   "cell_type": "code",
   "execution_count": 30,
   "id": "c92b33e7",
   "metadata": {},
   "outputs": [
    {
     "name": "stdout",
     "output_type": "stream",
     "text": [
      "0.8125\n"
     ]
    }
   ],
   "source": [
    "clf = svm.SVC(gamma='auto', C=10)\n",
    "clf.fit(xtrain, ytrain)\n",
    "print(clf.score(xval,yval))"
   ]
  },
  {
   "cell_type": "markdown",
   "id": "d022360b",
   "metadata": {},
   "source": [
    "Acceptable Model"
   ]
  },
  {
   "cell_type": "code",
   "execution_count": 31,
   "id": "6354b860",
   "metadata": {},
   "outputs": [
    {
     "name": "stdout",
     "output_type": "stream",
     "text": [
      "0.8125\n"
     ]
    }
   ],
   "source": [
    "clf = svm.SVC(gamma='auto',kernel='sigmoid', C=2)\n",
    "clf.fit(xtrain, ytrain)\n",
    "print(clf.score(xval,yval))"
   ]
  },
  {
   "cell_type": "code",
   "execution_count": 32,
   "id": "15c50e25",
   "metadata": {},
   "outputs": [
    {
     "name": "stdout",
     "output_type": "stream",
     "text": [
      "0.75\n"
     ]
    }
   ],
   "source": [
    "clf = svm.SVC(gamma='auto',kernel='linear')\n",
    "clf.fit(xtrain, ytrain)\n",
    "print(clf.score(xval,yval))"
   ]
  },
  {
   "cell_type": "code",
   "execution_count": 33,
   "id": "d94277b4",
   "metadata": {},
   "outputs": [
    {
     "name": "stdout",
     "output_type": "stream",
     "text": [
      "0.5\n"
     ]
    }
   ],
   "source": [
    "clf = svm.SVC(gamma='auto',kernel='poly')\n",
    "clf.fit(xtrain, ytrain)\n",
    "print(clf.score(xval,yval))"
   ]
  },
  {
   "cell_type": "code",
   "execution_count": 34,
   "id": "53fcc8dc",
   "metadata": {},
   "outputs": [
    {
     "name": "stdout",
     "output_type": "stream",
     "text": [
      "0.625\n"
     ]
    }
   ],
   "source": [
    "clf = svm.SVC(gamma='auto',kernel='poly', degree=2)\n",
    "clf.fit(xtrain, ytrain)\n",
    "print(clf.score(xval,yval))"
   ]
  },
  {
   "cell_type": "code",
   "execution_count": 35,
   "id": "6fe3bdcf",
   "metadata": {},
   "outputs": [
    {
     "name": "stdout",
     "output_type": "stream",
     "text": [
      "0.8125\n"
     ]
    }
   ],
   "source": [
    "clf = svm.SVC(gamma='auto',kernel='poly', degree=1)\n",
    "clf.fit(xtrain, ytrain)\n",
    "print(clf.score(xval,yval))"
   ]
  },
  {
   "cell_type": "code",
   "execution_count": 36,
   "id": "a20a944e",
   "metadata": {},
   "outputs": [
    {
     "name": "stdout",
     "output_type": "stream",
     "text": [
      "0.5\n"
     ]
    }
   ],
   "source": [
    "clf = svm.SVC(gamma='auto',kernel='poly', degree=4)\n",
    "clf.fit(xtrain, ytrain)\n",
    "print(clf.score(xval,yval))"
   ]
  },
  {
   "cell_type": "code",
   "execution_count": 37,
   "id": "277d1169",
   "metadata": {},
   "outputs": [
    {
     "name": "stdout",
     "output_type": "stream",
     "text": [
      "0.8125\n"
     ]
    }
   ],
   "source": [
    "clf = svm.SVC(gamma='auto',kernel='poly', degree=1, C=2)\n",
    "clf.fit(xtrain, ytrain)\n",
    "print(clf.score(xval,yval))"
   ]
  },
  {
   "cell_type": "markdown",
   "id": "bc32d74a",
   "metadata": {},
   "source": [
    "### Max Accuracy is 0.81 which is not the highest, therefore we do not select this model"
   ]
  },
  {
   "cell_type": "markdown",
   "id": "74635222",
   "metadata": {},
   "source": [
    "# MLP"
   ]
  },
  {
   "cell_type": "markdown",
   "id": "13978501",
   "metadata": {},
   "source": [
    "## Packages"
   ]
  },
  {
   "cell_type": "code",
   "execution_count": 38,
   "id": "2864fb85",
   "metadata": {},
   "outputs": [],
   "source": [
    "from sklearn.neural_network import MLPClassifier"
   ]
  },
  {
   "cell_type": "code",
   "execution_count": 39,
   "id": "fea77bb4",
   "metadata": {},
   "outputs": [
    {
     "name": "stdout",
     "output_type": "stream",
     "text": [
      "0.8125\n"
     ]
    }
   ],
   "source": [
    "clf=MLPClassifier().fit(xtrain, ytrain)\n",
    "print(clf.score(xval,yval))"
   ]
  },
  {
   "cell_type": "code",
   "execution_count": 40,
   "id": "b8639fe6",
   "metadata": {},
   "outputs": [
    {
     "name": "stdout",
     "output_type": "stream",
     "text": [
      "0.8125\n"
     ]
    },
    {
     "name": "stderr",
     "output_type": "stream",
     "text": [
      "C:\\Users\\acer\\anaconda3\\lib\\site-packages\\sklearn\\neural_network\\_multilayer_perceptron.py:500: ConvergenceWarning: lbfgs failed to converge (status=1):\n",
      "STOP: TOTAL NO. of ITERATIONS REACHED LIMIT.\n",
      "\n",
      "Increase the number of iterations (max_iter) or scale the data as shown in:\n",
      "    https://scikit-learn.org/stable/modules/preprocessing.html\n",
      "  self.n_iter_ = _check_optimize_result(\"lbfgs\", opt_res, self.max_iter)\n"
     ]
    }
   ],
   "source": [
    "clf=MLPClassifier(solver='lbfgs', max_iter=500).fit(xtrain, ytrain)\n",
    "print(clf.score(xval,yval))"
   ]
  },
  {
   "cell_type": "code",
   "execution_count": 41,
   "id": "1a205924",
   "metadata": {},
   "outputs": [
    {
     "name": "stdout",
     "output_type": "stream",
     "text": [
      "0.75\n"
     ]
    }
   ],
   "source": [
    "clf=MLPClassifier(solver='sgd', max_iter=1000).fit(xtrain, ytrain)\n",
    "print(clf.score(xval,yval))"
   ]
  },
  {
   "cell_type": "code",
   "execution_count": 42,
   "id": "5fb5577a",
   "metadata": {},
   "outputs": [
    {
     "name": "stdout",
     "output_type": "stream",
     "text": [
      "0.8125\n"
     ]
    }
   ],
   "source": [
    "clf=MLPClassifier(activation='tanh',solver='lbfgs', max_iter=500).fit(xtrain, ytrain)\n",
    "print(clf.score(xval,yval))"
   ]
  },
  {
   "cell_type": "code",
   "execution_count": 43,
   "id": "a6f06a5d",
   "metadata": {},
   "outputs": [
    {
     "name": "stdout",
     "output_type": "stream",
     "text": [
      "0.5625\n"
     ]
    }
   ],
   "source": [
    "clf=MLPClassifier(hidden_layer_sizes=(25,25,25,25,),activation='tanh',solver='sgd', max_iter=500).fit(xtrain, ytrain)\n",
    "print(clf.score(xval,yval))"
   ]
  },
  {
   "cell_type": "code",
   "execution_count": 44,
   "id": "4907ee72",
   "metadata": {},
   "outputs": [
    {
     "name": "stdout",
     "output_type": "stream",
     "text": [
      "0.75\n"
     ]
    }
   ],
   "source": [
    "clf=MLPClassifier(hidden_layer_sizes=(25,25,25,),activation='tanh',solver='sgd', max_iter=500).fit(xtrain, ytrain)\n",
    "print(clf.score(xval,yval))"
   ]
  },
  {
   "cell_type": "code",
   "execution_count": 45,
   "id": "45e23e63",
   "metadata": {},
   "outputs": [
    {
     "name": "stdout",
     "output_type": "stream",
     "text": [
      "0.75\n"
     ]
    }
   ],
   "source": [
    "clf=MLPClassifier(hidden_layer_sizes=(25,25,25,),activation='tanh',solver='lbfgs', max_iter=1000).fit(xtrain, ytrain)\n",
    "print(clf.score(xval,yval))"
   ]
  },
  {
   "cell_type": "code",
   "execution_count": 46,
   "id": "4dc8f674",
   "metadata": {},
   "outputs": [
    {
     "name": "stdout",
     "output_type": "stream",
     "text": [
      "0.875\n"
     ]
    }
   ],
   "source": [
    "clf=MLPClassifier(activation='logistic',solver='sgd', max_iter=1000).fit(xtrain, ytrain)\n",
    "print(clf.score(xval,yval))"
   ]
  },
  {
   "cell_type": "code",
   "execution_count": 47,
   "id": "73212f0a",
   "metadata": {},
   "outputs": [
    {
     "name": "stdout",
     "output_type": "stream",
     "text": [
      "0.875\n"
     ]
    }
   ],
   "source": [
    "clf=MLPClassifier(activation='logistic',solver='lbfgs', max_iter=1000).fit(xtrain, ytrain)\n",
    "print(clf.score(xval,yval))"
   ]
  },
  {
   "cell_type": "code",
   "execution_count": 48,
   "id": "bfb2d2e6",
   "metadata": {},
   "outputs": [
    {
     "name": "stdout",
     "output_type": "stream",
     "text": [
      "0.8125\n"
     ]
    }
   ],
   "source": [
    "clf=MLPClassifier(activation='logistic',solver='adam', max_iter=1000).fit(xtrain, ytrain)\n",
    "print(clf.score(xval,yval))"
   ]
  },
  {
   "cell_type": "code",
   "execution_count": 49,
   "id": "3d7e0ba4",
   "metadata": {},
   "outputs": [
    {
     "name": "stdout",
     "output_type": "stream",
     "text": [
      "0.5\n"
     ]
    }
   ],
   "source": [
    "clf=MLPClassifier(hidden_layer_sizes=(25,25,25,),activation='logistic',solver='sgd', max_iter=1000).fit(xtrain, ytrain)\n",
    "print(clf.score(xval,yval))"
   ]
  },
  {
   "cell_type": "code",
   "execution_count": 50,
   "id": "30657a01",
   "metadata": {},
   "outputs": [
    {
     "name": "stdout",
     "output_type": "stream",
     "text": [
      "0.9375\n"
     ]
    }
   ],
   "source": [
    "clf=MLPClassifier(activation='identity',solver='adam', max_iter=1000).fit(xtrain, ytrain)\n",
    "print(clf.score(xval,yval))"
   ]
  },
  {
   "cell_type": "code",
   "execution_count": null,
   "id": "4bd45cf2",
   "metadata": {},
   "outputs": [],
   "source": [
    "clf=MLPClassifier(activation='identity',solver='sgd', max_iter=1000).fit(xtrain, ytrain)\n",
    "print(clf.score(xval,yval))"
   ]
  },
  {
   "cell_type": "code",
   "execution_count": null,
   "id": "d74cb870",
   "metadata": {},
   "outputs": [],
   "source": [
    "clf=MLPClassifier(activation='identity',solver='lbfgs', max_iter=1000).fit(xtrain, ytrain)\n",
    "print(clf.score(xval,yval))"
   ]
  }
 ],
 "metadata": {
  "kernelspec": {
   "display_name": "Python 3",
   "language": "python",
   "name": "python3"
  },
  "language_info": {
   "codemirror_mode": {
    "name": "ipython",
    "version": 3
   },
   "file_extension": ".py",
   "mimetype": "text/x-python",
   "name": "python",
   "nbconvert_exporter": "python",
   "pygments_lexer": "ipython3",
   "version": "3.8.8"
  }
 },
 "nbformat": 4,
 "nbformat_minor": 5
}
