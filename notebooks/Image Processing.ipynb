{
 "cells": [
  {
   "cell_type": "markdown",
   "metadata": {},
   "source": [
    "# Importing the required modules"
   ]
  },
  {
   "cell_type": "code",
   "execution_count": 1,
   "metadata": {},
   "outputs": [],
   "source": [
    "import pandas as pd\n",
    "import numpy as np\n",
    "from skimage.io import imread, imshow\n",
    "from skimage import transform\n",
    "import matplotlib.pyplot as plt\n",
    "from skimage import color\n",
    "import os"
   ]
  },
  {
   "cell_type": "markdown",
   "metadata": {},
   "source": [
    "# Reading the images"
   ]
  },
  {
   "cell_type": "markdown",
   "metadata": {},
   "source": [
    "The images are read from the given 'folder' and the class 'type' (i.e. folder\\type). Moreover, all the images are resized to 50 x 50 . The pixel matrix is extracted and saved in the dictionary."
   ]
  },
  {
   "cell_type": "code",
   "execution_count": 2,
   "metadata": {},
   "outputs": [],
   "source": [
    "chestXRays = dict()\n",
    "\n",
    "def load_images_from_folder(folder,type):\n",
    "    chestXRays[type] = []\n",
    "    for filename in os.listdir(folder):\n",
    "        img = imread(os.path.join(folder,filename))\n",
    "        newsize = (50, 50)\n",
    "        img1 = transform.resize(img,output_shape=newsize)\n",
    "        if img1 is not None:\n",
    "             chestXRays[type].append(img1)"
   ]
  },
  {
   "cell_type": "markdown",
   "metadata": {},
   "source": [
    "# Processing the Train Images"
   ]
  },
  {
   "cell_type": "markdown",
   "metadata": {},
   "source": [
    "## Feature Extraction"
   ]
  },
  {
   "cell_type": "markdown",
   "metadata": {},
   "source": [
    "### Pixel Matrix"
   ]
  },
  {
   "cell_type": "code",
   "execution_count": 37,
   "metadata": {},
   "outputs": [],
   "source": [
    "for i in [\"normal\",\"pneumonia\"]:\n",
    "  path = os.path.join(r\"C:\\Users\\mitug\\Pneumonia-Detection-System\\data\\Images\\train\",i)\n",
    "  load_images_from_folder(path,i)"
   ]
  },
  {
   "cell_type": "markdown",
   "metadata": {},
   "source": [
    "Few images of Pneumonia Lung X-Rays are read as rgb and hence are converted to a gray scale."
   ]
  },
  {
   "cell_type": "code",
   "execution_count": 38,
   "metadata": {},
   "outputs": [],
   "source": [
    "for i in range(len(chestXRays['pneumonia'])):\n",
    "    if np.shape(chestXRays['pneumonia'][i]) != (50,50):\n",
    "      chestXRays['pneumonia'][i] = color.rgb2gray(chestXRays['pneumonia'][i])"
   ]
  },
  {
   "cell_type": "markdown",
   "metadata": {},
   "source": [
    "### Image Samples"
   ]
  },
  {
   "cell_type": "code",
   "execution_count": 39,
   "metadata": {},
   "outputs": [
    {
     "data": {
      "text/plain": [
       "<matplotlib.image.AxesImage at 0x1aa83462580>"
      ]
     },
     "execution_count": 39,
     "metadata": {},
     "output_type": "execute_result"
    },
    {
     "data": {
      "image/png": "[encoded data removed]",
      "text/plain": [
       "<Figure size 432x288 with 1 Axes>"
      ]
     },
     "metadata": {
      "needs_background": "light"
     },
     "output_type": "display_data"
    }
   ],
   "source": [
    "imshow(chestXRays['normal'][0])"
   ]
  },
  {
   "cell_type": "code",
   "execution_count": 64,
   "metadata": {},
   "outputs": [
    {
     "data": {
      "text/plain": [
       "<matplotlib.image.AxesImage at 0x1aa83c9ef70>"
      ]
     },
     "execution_count": 64,
     "metadata": {},
     "output_type": "execute_result"
    },
    {
     "data": {
      "image/png": "[encoded data removed]",
      "text/plain": [
       "<Figure size 432x288 with 1 Axes>"
      ]
     },
     "metadata": {
      "needs_background": "light"
     },
     "output_type": "display_data"
    }
   ],
   "source": [
    "imshow(chestXRays['pneumonia'][0])"
   ]
  },
  {
   "cell_type": "markdown",
   "metadata": {},
   "source": [
    "### Reshaping the pixel matrix"
   ]
  },
  {
   "cell_type": "markdown",
   "metadata": {},
   "source": [
    "The matrix are to be reshaped as a row matrix in order to arrange as a row of a dataframe."
   ]
  },
  {
   "cell_type": "code",
   "execution_count": 27,
   "metadata": {},
   "outputs": [],
   "source": [
    "for i in range(len(chestXRays['normal'])):\n",
    "    chestXRays['normal'][i] = np.reshape(chestXRays['normal'][i],(1,-1))"
   ]
  },
  {
   "cell_type": "code",
   "execution_count": 41,
   "metadata": {},
   "outputs": [],
   "source": [
    "for i in range(len(chestXRays['pneumonia'])):\n",
    "    chestXRays['pneumonia'][i] = np.reshape(chestXRays['pneumonia'][i],(1,-1))"
   ]
  },
  {
   "cell_type": "markdown",
   "metadata": {},
   "source": [
    "Converting a two-dimensional array to a single dimension array."
   ]
  },
  {
   "cell_type": "code",
   "execution_count": 42,
   "metadata": {},
   "outputs": [],
   "source": [
    "x = np.reshape(chestXRays['normal'],(len(chestXRays['normal']),2500))"
   ]
  },
  {
   "cell_type": "code",
   "execution_count": 43,
   "metadata": {},
   "outputs": [],
   "source": [
    "y = np.reshape(chestXRays['pneumonia'],(len(chestXRays['pneumonia']),2500))"
   ]
  },
  {
   "cell_type": "markdown",
   "metadata": {},
   "source": [
    "## Creating a dataframe of the pixel features"
   ]
  },
  {
   "cell_type": "markdown",
   "metadata": {},
   "source": [
    "### For Normal Lung X-Rays"
   ]
  },
  {
   "cell_type": "code",
   "execution_count": 44,
   "metadata": {},
   "outputs": [],
   "source": [
    "n = pd.DataFrame(x)"
   ]
  },
  {
   "cell_type": "markdown",
   "metadata": {},
   "source": [
    "Creating a column and adding a label \"Normal\" for the type of X-rays ."
   ]
  },
  {
   "cell_type": "code",
   "execution_count": 45,
   "metadata": {},
   "outputs": [],
   "source": [
    "n[\"type\"] = [\"Normal\"]*len(n)"
   ]
  },
  {
   "cell_type": "code",
   "execution_count": 46,
   "metadata": {},
   "outputs": [
    {
     "name": "stdout",
     "output_type": "stream",
     "text": [
      "<class 'pandas.core.frame.DataFrame'>\n",
      "RangeIndex: 1341 entries, 0 to 1340\n",
      "Columns: 2501 entries, 0 to type\n",
      "dtypes: float64(2500), object(1)\n",
      "memory usage: 25.6+ MB\n"
     ]
    }
   ],
   "source": [
    "n.info()"
   ]
  },
  {
   "cell_type": "markdown",
   "metadata": {},
   "source": [
    "### For Pneumonia-infected Lung X-Rays"
   ]
  },
  {
   "cell_type": "code",
   "execution_count": 47,
   "metadata": {},
   "outputs": [],
   "source": [
    "p = pd.DataFrame(y)"
   ]
  },
  {
   "cell_type": "markdown",
   "metadata": {},
   "source": [
    "Creating a column and adding a label \"Pneumonia\" for the type of X-rays ."
   ]
  },
  {
   "cell_type": "code",
   "execution_count": 48,
   "metadata": {},
   "outputs": [],
   "source": [
    "p[\"type\"] = [\"Pneumonia\"]*len(p)"
   ]
  },
  {
   "cell_type": "code",
   "execution_count": 49,
   "metadata": {},
   "outputs": [
    {
     "name": "stdout",
     "output_type": "stream",
     "text": [
      "<class 'pandas.core.frame.DataFrame'>\n",
      "RangeIndex: 3875 entries, 0 to 3874\n",
      "Columns: 2501 entries, 0 to type\n",
      "dtypes: float64(2500), object(1)\n",
      "memory usage: 73.9+ MB\n"
     ]
    }
   ],
   "source": [
    "p.info()"
   ]
  },
  {
   "cell_type": "markdown",
   "metadata": {},
   "source": [
    "### Combining the dataframes into a Single DataFrame"
   ]
  },
  {
   "cell_type": "code",
   "execution_count": 50,
   "metadata": {},
   "outputs": [],
   "source": [
    "final = pd.concat([n,p])"
   ]
  },
  {
   "cell_type": "markdown",
   "metadata": {},
   "source": [
    "## Writing the DataFrame into CSV file"
   ]
  },
  {
   "cell_type": "code",
   "execution_count": 51,
   "metadata": {},
   "outputs": [],
   "source": [
    "final.to_csv(r\"C:\\Users\\mitug\\Pneumonia-Detection-System\\data\\csv\\train.csv\")"
   ]
  },
  {
   "cell_type": "markdown",
   "metadata": {},
   "source": [
    "# Processing the Test Images"
   ]
  },
  {
   "cell_type": "markdown",
   "metadata": {},
   "source": [
    "# Feature Extraction"
   ]
  },
  {
   "cell_type": "markdown",
   "metadata": {},
   "source": [
    "### Pixel Matrix"
   ]
  },
  {
   "cell_type": "code",
   "execution_count": 3,
   "metadata": {},
   "outputs": [],
   "source": [
    "for i in [\"normal\",\"pneumonia\"]:\n",
    "  path = os.path.join(r\"C:\\Users\\mitug\\Pneumonia-Detection-System\\data\\Images\\test\",i)\n",
    "  load_images_from_folder(path,i)"
   ]
  },
  {
   "cell_type": "markdown",
   "metadata": {},
   "source": [
    "## Image Sample"
   ]
  },
  {
   "cell_type": "markdown",
   "metadata": {},
   "source": [
    "### Normal Lung X-Ray"
   ]
  },
  {
   "cell_type": "code",
   "execution_count": 4,
   "metadata": {},
   "outputs": [
    {
     "data": {
      "text/plain": [
       "<matplotlib.image.AxesImage at 0x1aa8336a3d0>"
      ]
     },
     "execution_count": 4,
     "metadata": {},
     "output_type": "execute_result"
    },
    {
     "data": {
      "image/png": "[encoded data removed]",
      "text/plain": [
       "<Figure size 432x288 with 1 Axes>"
      ]
     },
     "metadata": {
      "needs_background": "light"
     },
     "output_type": "display_data"
    }
   ],
   "source": [
    "imshow(chestXRays[\"normal\"][0])"
   ]
  },
  {
   "cell_type": "markdown",
   "metadata": {},
   "source": [
    "### Pneumonia Lung X-Ray"
   ]
  },
  {
   "cell_type": "code",
   "execution_count": 5,
   "metadata": {},
   "outputs": [
    {
     "data": {
      "text/plain": [
       "<matplotlib.image.AxesImage at 0x1aa8340ed30>"
      ]
     },
     "execution_count": 5,
     "metadata": {},
     "output_type": "execute_result"
    },
    {
     "data": {
      "image/png": "[encoded data removed]",
      "text/plain": [
       "<Figure size 432x288 with 1 Axes>"
      ]
     },
     "metadata": {
      "needs_background": "light"
     },
     "output_type": "display_data"
    }
   ],
   "source": [
    "imshow(chestXRays[\"pneumonia\"][0])"
   ]
  },
  {
   "cell_type": "markdown",
   "metadata": {},
   "source": [
    "### Reshaping the matrix"
   ]
  },
  {
   "cell_type": "markdown",
   "metadata": {},
   "source": [
    "The matrix are to be reshaped as a row matrix in order to arrange as a row of a dataframe."
   ]
  },
  {
   "cell_type": "code",
   "execution_count": 6,
   "metadata": {},
   "outputs": [],
   "source": [
    "for i in range(len(chestXRays['normal'])):\n",
    "    chestXRays['normal'][i] = np.reshape(chestXRays['normal'][i],(1,-1))"
   ]
  },
  {
   "cell_type": "code",
   "execution_count": 7,
   "metadata": {},
   "outputs": [],
   "source": [
    "for i in range(len(chestXRays['pneumonia'])):\n",
    "    chestXRays['pneumonia'][i] = np.reshape(chestXRays['pneumonia'][i],(1,-1))"
   ]
  },
  {
   "cell_type": "markdown",
   "metadata": {},
   "source": [
    "Converting a two-dimensional array to a single dimension array."
   ]
  },
  {
   "cell_type": "code",
   "execution_count": 8,
   "metadata": {},
   "outputs": [],
   "source": [
    "x = np.reshape(chestXRays['normal'],(234,2500))"
   ]
  },
  {
   "cell_type": "code",
   "execution_count": 9,
   "metadata": {},
   "outputs": [],
   "source": [
    "y = np.reshape(chestXRays['pneumonia'],(len(chestXRays['pneumonia']),2500))"
   ]
  },
  {
   "cell_type": "markdown",
   "metadata": {},
   "source": [
    "## Creating a dataframe from the pixel features"
   ]
  },
  {
   "cell_type": "markdown",
   "metadata": {},
   "source": [
    "### For Normal Lung X-Rays"
   ]
  },
  {
   "cell_type": "code",
   "execution_count": 10,
   "metadata": {},
   "outputs": [],
   "source": [
    "n = pd.DataFrame(x)"
   ]
  },
  {
   "cell_type": "code",
   "execution_count": 11,
   "metadata": {},
   "outputs": [],
   "source": [
    "n[\"type\"] = [\"Normal\"]*len(n)"
   ]
  },
  {
   "cell_type": "code",
   "execution_count": 12,
   "metadata": {},
   "outputs": [
    {
     "name": "stdout",
     "output_type": "stream",
     "text": [
      "<class 'pandas.core.frame.DataFrame'>\n",
      "RangeIndex: 234 entries, 0 to 233\n",
      "Columns: 2501 entries, 0 to type\n",
      "dtypes: float64(2500), object(1)\n",
      "memory usage: 4.5+ MB\n"
     ]
    }
   ],
   "source": [
    "n.info()"
   ]
  },
  {
   "cell_type": "markdown",
   "metadata": {},
   "source": [
    "### For Pneumonia-infected Lung X-Rays"
   ]
  },
  {
   "cell_type": "code",
   "execution_count": 13,
   "metadata": {},
   "outputs": [],
   "source": [
    "p = pd.DataFrame(y)"
   ]
  },
  {
   "cell_type": "code",
   "execution_count": 14,
   "metadata": {},
   "outputs": [],
   "source": [
    "p[\"type\"] = [\"Pneumonia\"]*len(p)"
   ]
  },
  {
   "cell_type": "code",
   "execution_count": 15,
   "metadata": {},
   "outputs": [
    {
     "name": "stdout",
     "output_type": "stream",
     "text": [
      "<class 'pandas.core.frame.DataFrame'>\n",
      "RangeIndex: 390 entries, 0 to 389\n",
      "Columns: 2501 entries, 0 to type\n",
      "dtypes: float64(2500), object(1)\n",
      "memory usage: 7.4+ MB\n"
     ]
    }
   ],
   "source": [
    "p.info()"
   ]
  },
  {
   "cell_type": "markdown",
   "metadata": {},
   "source": [
    "### Combining the dataframes into a Single DataFrame"
   ]
  },
  {
   "cell_type": "code",
   "execution_count": 16,
   "metadata": {},
   "outputs": [],
   "source": [
    "final = pd.concat([n,p])"
   ]
  },
  {
   "cell_type": "code",
   "execution_count": 17,
   "metadata": {},
   "outputs": [
    {
     "data": {
      "text/html": [
       "<div>\n",
       "<style scoped>\n",
       "    .dataframe tbody tr th:only-of-type {\n",
       "        vertical-align: middle;\n",
       "    }\n",
       "\n",
       "    .dataframe tbody tr th {\n",
       "        vertical-align: top;\n",
       "    }\n",
       "\n",
       "    .dataframe thead th {\n",
       "        text-align: right;\n",
       "    }\n",
       "</style>\n",
       "<table border=\"1\" class=\"dataframe\">\n",
       "  <thead>\n",
       "    <tr style=\"text-align: right;\">\n",
       "      <th></th>\n",
       "      <th>0</th>\n",
       "      <th>1</th>\n",
       "      <th>2</th>\n",
       "      <th>3</th>\n",
       "      <th>4</th>\n",
       "      <th>5</th>\n",
       "      <th>6</th>\n",
       "      <th>7</th>\n",
       "      <th>8</th>\n",
       "      <th>9</th>\n",
       "      <th>...</th>\n",
       "      <th>2491</th>\n",
       "      <th>2492</th>\n",
       "      <th>2493</th>\n",
       "      <th>2494</th>\n",
       "      <th>2495</th>\n",
       "      <th>2496</th>\n",
       "      <th>2497</th>\n",
       "      <th>2498</th>\n",
       "      <th>2499</th>\n",
       "      <th>type</th>\n",
       "    </tr>\n",
       "  </thead>\n",
       "  <tbody>\n",
       "    <tr>\n",
       "      <th>0</th>\n",
       "      <td>0.122465</td>\n",
       "      <td>0.116420</td>\n",
       "      <td>0.109764</td>\n",
       "      <td>0.107399</td>\n",
       "      <td>0.107060</td>\n",
       "      <td>0.107025</td>\n",
       "      <td>0.106282</td>\n",
       "      <td>0.105681</td>\n",
       "      <td>0.107498</td>\n",
       "      <td>0.258542</td>\n",
       "      <td>...</td>\n",
       "      <td>0.689661</td>\n",
       "      <td>0.648444</td>\n",
       "      <td>0.584912</td>\n",
       "      <td>0.303299</td>\n",
       "      <td>0.109763</td>\n",
       "      <td>0.111618</td>\n",
       "      <td>0.123106</td>\n",
       "      <td>0.128758</td>\n",
       "      <td>0.129458</td>\n",
       "      <td>Normal</td>\n",
       "    </tr>\n",
       "    <tr>\n",
       "      <th>1</th>\n",
       "      <td>0.124358</td>\n",
       "      <td>0.253092</td>\n",
       "      <td>0.444090</td>\n",
       "      <td>0.548604</td>\n",
       "      <td>0.604798</td>\n",
       "      <td>0.699098</td>\n",
       "      <td>0.722988</td>\n",
       "      <td>0.720528</td>\n",
       "      <td>0.691291</td>\n",
       "      <td>0.652887</td>\n",
       "      <td>...</td>\n",
       "      <td>0.730217</td>\n",
       "      <td>0.642858</td>\n",
       "      <td>0.473676</td>\n",
       "      <td>0.162539</td>\n",
       "      <td>0.105735</td>\n",
       "      <td>0.117352</td>\n",
       "      <td>0.123976</td>\n",
       "      <td>0.127866</td>\n",
       "      <td>0.124735</td>\n",
       "      <td>Normal</td>\n",
       "    </tr>\n",
       "    <tr>\n",
       "      <th>2</th>\n",
       "      <td>0.141067</td>\n",
       "      <td>0.134452</td>\n",
       "      <td>0.129477</td>\n",
       "      <td>0.127610</td>\n",
       "      <td>0.129317</td>\n",
       "      <td>0.130882</td>\n",
       "      <td>0.130828</td>\n",
       "      <td>0.131132</td>\n",
       "      <td>0.130169</td>\n",
       "      <td>0.124539</td>\n",
       "      <td>...</td>\n",
       "      <td>0.740605</td>\n",
       "      <td>0.710004</td>\n",
       "      <td>0.658427</td>\n",
       "      <td>0.606793</td>\n",
       "      <td>0.330613</td>\n",
       "      <td>0.115430</td>\n",
       "      <td>0.113229</td>\n",
       "      <td>0.127140</td>\n",
       "      <td>0.133175</td>\n",
       "      <td>Normal</td>\n",
       "    </tr>\n",
       "    <tr>\n",
       "      <th>3</th>\n",
       "      <td>0.307677</td>\n",
       "      <td>0.343741</td>\n",
       "      <td>0.356352</td>\n",
       "      <td>0.373062</td>\n",
       "      <td>0.427929</td>\n",
       "      <td>0.446981</td>\n",
       "      <td>0.426127</td>\n",
       "      <td>0.418732</td>\n",
       "      <td>0.417412</td>\n",
       "      <td>0.417001</td>\n",
       "      <td>...</td>\n",
       "      <td>0.760763</td>\n",
       "      <td>0.750364</td>\n",
       "      <td>0.773015</td>\n",
       "      <td>0.752257</td>\n",
       "      <td>0.689769</td>\n",
       "      <td>0.634700</td>\n",
       "      <td>0.562861</td>\n",
       "      <td>0.495642</td>\n",
       "      <td>0.505871</td>\n",
       "      <td>Normal</td>\n",
       "    </tr>\n",
       "    <tr>\n",
       "      <th>4</th>\n",
       "      <td>0.148441</td>\n",
       "      <td>0.137073</td>\n",
       "      <td>0.124300</td>\n",
       "      <td>0.116225</td>\n",
       "      <td>0.113236</td>\n",
       "      <td>0.114013</td>\n",
       "      <td>0.117726</td>\n",
       "      <td>0.122859</td>\n",
       "      <td>0.142571</td>\n",
       "      <td>0.351559</td>\n",
       "      <td>...</td>\n",
       "      <td>0.765942</td>\n",
       "      <td>0.687622</td>\n",
       "      <td>0.594573</td>\n",
       "      <td>0.336478</td>\n",
       "      <td>0.151132</td>\n",
       "      <td>0.157526</td>\n",
       "      <td>0.162113</td>\n",
       "      <td>0.165055</td>\n",
       "      <td>0.169980</td>\n",
       "      <td>Normal</td>\n",
       "    </tr>\n",
       "  </tbody>\n",
       "</table>\n",
       "<p>5 rows × 2501 columns</p>\n",
       "</div>"
      ],
      "text/plain": [
       "          0         1         2         3         4         5         6  \\\n",
       "0  0.122465  0.116420  0.109764  0.107399  0.107060  0.107025  0.106282   \n",
       "1  0.124358  0.253092  0.444090  0.548604  0.604798  0.699098  0.722988   \n",
       "2  0.141067  0.134452  0.129477  0.127610  0.129317  0.130882  0.130828   \n",
       "3  0.307677  0.343741  0.356352  0.373062  0.427929  0.446981  0.426127   \n",
       "4  0.148441  0.137073  0.124300  0.116225  0.113236  0.114013  0.117726   \n",
       "\n",
       "          7         8         9  ...      2491      2492      2493      2494  \\\n",
       "0  0.105681  0.107498  0.258542  ...  0.689661  0.648444  0.584912  0.303299   \n",
       "1  0.720528  0.691291  0.652887  ...  0.730217  0.642858  0.473676  0.162539   \n",
       "2  0.131132  0.130169  0.124539  ...  0.740605  0.710004  0.658427  0.606793   \n",
       "3  0.418732  0.417412  0.417001  ...  0.760763  0.750364  0.773015  0.752257   \n",
       "4  0.122859  0.142571  0.351559  ...  0.765942  0.687622  0.594573  0.336478   \n",
       "\n",
       "       2495      2496      2497      2498      2499    type  \n",
       "0  0.109763  0.111618  0.123106  0.128758  0.129458  Normal  \n",
       "1  0.105735  0.117352  0.123976  0.127866  0.124735  Normal  \n",
       "2  0.330613  0.115430  0.113229  0.127140  0.133175  Normal  \n",
       "3  0.689769  0.634700  0.562861  0.495642  0.505871  Normal  \n",
       "4  0.151132  0.157526  0.162113  0.165055  0.169980  Normal  \n",
       "\n",
       "[5 rows x 2501 columns]"
      ]
     },
     "execution_count": 17,
     "metadata": {},
     "output_type": "execute_result"
    }
   ],
   "source": [
    "final.head()"
   ]
  },
  {
   "cell_type": "markdown",
   "metadata": {},
   "source": [
    "## Writing the pixel features into a CSV file"
   ]
  },
  {
   "cell_type": "code",
   "execution_count": 18,
   "metadata": {},
   "outputs": [],
   "source": [
    "final.to_csv(r\"C:\\Users\\mitug\\Pneumonia-Detection-System\\data\\csv\\test.csv\")"
   ]
  },
  {
   "cell_type": "markdown",
   "metadata": {},
   "source": [
    "# Processing the Validation Images"
   ]
  },
  {
   "cell_type": "markdown",
   "metadata": {},
   "source": [
    "## Feature Extraction"
   ]
  },
  {
   "cell_type": "code",
   "execution_count": 20,
   "metadata": {},
   "outputs": [],
   "source": [
    "for i in [\"normal\",\"pneumonia\"]:\n",
    "  path = os.path.join(r\"C:\\Users\\mitug\\Pneumonia-Detection-System\\data\\Images\\val\",i)\n",
    "  load_images_from_folder(path,i)"
   ]
  },
  {
   "cell_type": "markdown",
   "metadata": {},
   "source": [
    "## Image Samples"
   ]
  },
  {
   "cell_type": "markdown",
   "metadata": {},
   "source": [
    "### Normal Lung X-Ray"
   ]
  },
  {
   "cell_type": "code",
   "execution_count": 21,
   "metadata": {},
   "outputs": [
    {
     "data": {
      "text/plain": [
       "<matplotlib.image.AxesImage at 0x1aa85493520>"
      ]
     },
     "execution_count": 21,
     "metadata": {},
     "output_type": "execute_result"
    },
    {
     "data": {
      "image/png": "[encoded data removed]",
      "text/plain": [
       "<Figure size 432x288 with 1 Axes>"
      ]
     },
     "metadata": {
      "needs_background": "light"
     },
     "output_type": "display_data"
    }
   ],
   "source": [
    "imshow(chestXRays[\"normal\"][0])"
   ]
  },
  {
   "cell_type": "markdown",
   "metadata": {},
   "source": [
    "### Pneumonia-infected Lung X-Ray"
   ]
  },
  {
   "cell_type": "code",
   "execution_count": 22,
   "metadata": {},
   "outputs": [
    {
     "data": {
      "text/plain": [
       "<matplotlib.image.AxesImage at 0x1aa854e2ac0>"
      ]
     },
     "execution_count": 22,
     "metadata": {},
     "output_type": "execute_result"
    },
    {
     "data": {
      "image/png": "[encoded data removed]",
      "text/plain": [
       "<Figure size 432x288 with 1 Axes>"
      ]
     },
     "metadata": {
      "needs_background": "light"
     },
     "output_type": "display_data"
    }
   ],
   "source": [
    "imshow(chestXRays[\"pneumonia\"][0])"
   ]
  },
  {
   "cell_type": "markdown",
   "metadata": {},
   "source": [
    "## Reshaping the pixel matrix"
   ]
  },
  {
   "cell_type": "markdown",
   "metadata": {},
   "source": [
    "The matrix are to be reshaped as a row matrix in order to arrange as a row of a dataframe."
   ]
  },
  {
   "cell_type": "code",
   "execution_count": 23,
   "metadata": {},
   "outputs": [],
   "source": [
    "for i in range(len(chestXRays['normal'])):\n",
    "    chestXRays['normal'][i] = np.reshape(chestXRays['normal'][i],(1,-1))"
   ]
  },
  {
   "cell_type": "code",
   "execution_count": 24,
   "metadata": {},
   "outputs": [],
   "source": [
    "for i in range(len(chestXRays['pneumonia'])):\n",
    "    chestXRays['pneumonia'][i] = np.reshape(chestXRays['pneumonia'][i],(1,-1))"
   ]
  },
  {
   "cell_type": "markdown",
   "metadata": {},
   "source": [
    "Converting a two-dimensional array to a single dimension array."
   ]
  },
  {
   "cell_type": "code",
   "execution_count": 26,
   "metadata": {},
   "outputs": [],
   "source": [
    "x = np.reshape(chestXRays['normal'],(len(chestXRays['normal']),2500))"
   ]
  },
  {
   "cell_type": "code",
   "execution_count": 27,
   "metadata": {},
   "outputs": [],
   "source": [
    "y = np.reshape(chestXRays['pneumonia'],(len(chestXRays['pneumonia']),2500))"
   ]
  },
  {
   "cell_type": "markdown",
   "metadata": {},
   "source": [
    "## Creating a dataframe from the pixel features"
   ]
  },
  {
   "cell_type": "markdown",
   "metadata": {},
   "source": [
    "### Normal Lung X-Rays"
   ]
  },
  {
   "cell_type": "code",
   "execution_count": 28,
   "metadata": {},
   "outputs": [],
   "source": [
    "n = pd.DataFrame(x)"
   ]
  },
  {
   "cell_type": "code",
   "execution_count": 29,
   "metadata": {},
   "outputs": [],
   "source": [
    "n[\"type\"] = [\"Normal\"]*len(n)"
   ]
  },
  {
   "cell_type": "code",
   "execution_count": 30,
   "metadata": {},
   "outputs": [
    {
     "name": "stdout",
     "output_type": "stream",
     "text": [
      "<class 'pandas.core.frame.DataFrame'>\n",
      "RangeIndex: 8 entries, 0 to 7\n",
      "Columns: 2501 entries, 0 to type\n",
      "dtypes: float64(2500), object(1)\n",
      "memory usage: 156.4+ KB\n"
     ]
    }
   ],
   "source": [
    "n.info()"
   ]
  },
  {
   "cell_type": "markdown",
   "metadata": {},
   "source": [
    "### Pneumonia-infected Lung X-Rays"
   ]
  },
  {
   "cell_type": "code",
   "execution_count": 31,
   "metadata": {},
   "outputs": [],
   "source": [
    "p = pd.DataFrame(y)"
   ]
  },
  {
   "cell_type": "code",
   "execution_count": 32,
   "metadata": {},
   "outputs": [],
   "source": [
    "p[\"type\"] = [\"Pneumonia\"]*len(p)"
   ]
  },
  {
   "cell_type": "code",
   "execution_count": 33,
   "metadata": {},
   "outputs": [
    {
     "name": "stdout",
     "output_type": "stream",
     "text": [
      "<class 'pandas.core.frame.DataFrame'>\n",
      "RangeIndex: 8 entries, 0 to 7\n",
      "Columns: 2501 entries, 0 to type\n",
      "dtypes: float64(2500), object(1)\n",
      "memory usage: 156.4+ KB\n"
     ]
    }
   ],
   "source": [
    "p.info()"
   ]
  },
  {
   "cell_type": "markdown",
   "metadata": {},
   "source": [
    "### Combining the dataframes into a Single DataFrame"
   ]
  },
  {
   "cell_type": "code",
   "execution_count": 34,
   "metadata": {},
   "outputs": [],
   "source": [
    "final = pd.concat([n,p])"
   ]
  },
  {
   "cell_type": "code",
   "execution_count": 35,
   "metadata": {},
   "outputs": [
    {
     "data": {
      "text/html": [
       "<div>\n",
       "<style scoped>\n",
       "    .dataframe tbody tr th:only-of-type {\n",
       "        vertical-align: middle;\n",
       "    }\n",
       "\n",
       "    .dataframe tbody tr th {\n",
       "        vertical-align: top;\n",
       "    }\n",
       "\n",
       "    .dataframe thead th {\n",
       "        text-align: right;\n",
       "    }\n",
       "</style>\n",
       "<table border=\"1\" class=\"dataframe\">\n",
       "  <thead>\n",
       "    <tr style=\"text-align: right;\">\n",
       "      <th></th>\n",
       "      <th>0</th>\n",
       "      <th>1</th>\n",
       "      <th>2</th>\n",
       "      <th>3</th>\n",
       "      <th>4</th>\n",
       "      <th>5</th>\n",
       "      <th>6</th>\n",
       "      <th>7</th>\n",
       "      <th>8</th>\n",
       "      <th>9</th>\n",
       "      <th>...</th>\n",
       "      <th>2491</th>\n",
       "      <th>2492</th>\n",
       "      <th>2493</th>\n",
       "      <th>2494</th>\n",
       "      <th>2495</th>\n",
       "      <th>2496</th>\n",
       "      <th>2497</th>\n",
       "      <th>2498</th>\n",
       "      <th>2499</th>\n",
       "      <th>type</th>\n",
       "    </tr>\n",
       "  </thead>\n",
       "  <tbody>\n",
       "    <tr>\n",
       "      <th>0</th>\n",
       "      <td>0.090265</td>\n",
       "      <td>0.151757</td>\n",
       "      <td>0.287090</td>\n",
       "      <td>0.405232</td>\n",
       "      <td>0.457681</td>\n",
       "      <td>0.466542</td>\n",
       "      <td>0.532181</td>\n",
       "      <td>0.600888</td>\n",
       "      <td>0.598140</td>\n",
       "      <td>0.609821</td>\n",
       "      <td>...</td>\n",
       "      <td>0.700943</td>\n",
       "      <td>0.675664</td>\n",
       "      <td>0.576725</td>\n",
       "      <td>0.274264</td>\n",
       "      <td>0.047644</td>\n",
       "      <td>0.000828</td>\n",
       "      <td>1.815899e-11</td>\n",
       "      <td>0.000000</td>\n",
       "      <td>0.000000</td>\n",
       "      <td>Normal</td>\n",
       "    </tr>\n",
       "    <tr>\n",
       "      <th>1</th>\n",
       "      <td>0.317278</td>\n",
       "      <td>0.150989</td>\n",
       "      <td>0.052835</td>\n",
       "      <td>0.035858</td>\n",
       "      <td>0.019328</td>\n",
       "      <td>0.005076</td>\n",
       "      <td>0.000993</td>\n",
       "      <td>0.004529</td>\n",
       "      <td>0.000441</td>\n",
       "      <td>0.003468</td>\n",
       "      <td>...</td>\n",
       "      <td>0.679417</td>\n",
       "      <td>0.478855</td>\n",
       "      <td>0.156777</td>\n",
       "      <td>0.005614</td>\n",
       "      <td>0.000002</td>\n",
       "      <td>0.000000</td>\n",
       "      <td>0.000000e+00</td>\n",
       "      <td>0.000000</td>\n",
       "      <td>0.000000</td>\n",
       "      <td>Normal</td>\n",
       "    </tr>\n",
       "    <tr>\n",
       "      <th>2</th>\n",
       "      <td>0.262639</td>\n",
       "      <td>0.387552</td>\n",
       "      <td>0.467830</td>\n",
       "      <td>0.514264</td>\n",
       "      <td>0.628833</td>\n",
       "      <td>0.689737</td>\n",
       "      <td>0.697894</td>\n",
       "      <td>0.641414</td>\n",
       "      <td>0.563562</td>\n",
       "      <td>0.544636</td>\n",
       "      <td>...</td>\n",
       "      <td>0.795313</td>\n",
       "      <td>0.803022</td>\n",
       "      <td>0.793797</td>\n",
       "      <td>0.756357</td>\n",
       "      <td>0.697951</td>\n",
       "      <td>0.381402</td>\n",
       "      <td>5.514905e-02</td>\n",
       "      <td>0.000626</td>\n",
       "      <td>0.000002</td>\n",
       "      <td>Normal</td>\n",
       "    </tr>\n",
       "    <tr>\n",
       "      <th>3</th>\n",
       "      <td>0.269848</td>\n",
       "      <td>0.211767</td>\n",
       "      <td>0.115692</td>\n",
       "      <td>0.084487</td>\n",
       "      <td>0.066895</td>\n",
       "      <td>0.054488</td>\n",
       "      <td>0.043586</td>\n",
       "      <td>0.034330</td>\n",
       "      <td>0.015354</td>\n",
       "      <td>0.007416</td>\n",
       "      <td>...</td>\n",
       "      <td>0.513655</td>\n",
       "      <td>0.567146</td>\n",
       "      <td>0.421498</td>\n",
       "      <td>0.175365</td>\n",
       "      <td>0.013744</td>\n",
       "      <td>0.003936</td>\n",
       "      <td>2.058174e-04</td>\n",
       "      <td>0.001275</td>\n",
       "      <td>0.000204</td>\n",
       "      <td>Normal</td>\n",
       "    </tr>\n",
       "    <tr>\n",
       "      <th>4</th>\n",
       "      <td>0.124831</td>\n",
       "      <td>0.091084</td>\n",
       "      <td>0.166966</td>\n",
       "      <td>0.219295</td>\n",
       "      <td>0.248790</td>\n",
       "      <td>0.258376</td>\n",
       "      <td>0.276915</td>\n",
       "      <td>0.405980</td>\n",
       "      <td>0.436840</td>\n",
       "      <td>0.405198</td>\n",
       "      <td>...</td>\n",
       "      <td>0.610109</td>\n",
       "      <td>0.394919</td>\n",
       "      <td>0.127044</td>\n",
       "      <td>0.059372</td>\n",
       "      <td>0.083518</td>\n",
       "      <td>0.094993</td>\n",
       "      <td>1.223609e-01</td>\n",
       "      <td>0.136758</td>\n",
       "      <td>0.121619</td>\n",
       "      <td>Normal</td>\n",
       "    </tr>\n",
       "  </tbody>\n",
       "</table>\n",
       "<p>5 rows × 2501 columns</p>\n",
       "</div>"
      ],
      "text/plain": [
       "          0         1         2         3         4         5         6  \\\n",
       "0  0.090265  0.151757  0.287090  0.405232  0.457681  0.466542  0.532181   \n",
       "1  0.317278  0.150989  0.052835  0.035858  0.019328  0.005076  0.000993   \n",
       "2  0.262639  0.387552  0.467830  0.514264  0.628833  0.689737  0.697894   \n",
       "3  0.269848  0.211767  0.115692  0.084487  0.066895  0.054488  0.043586   \n",
       "4  0.124831  0.091084  0.166966  0.219295  0.248790  0.258376  0.276915   \n",
       "\n",
       "          7         8         9  ...      2491      2492      2493      2494  \\\n",
       "0  0.600888  0.598140  0.609821  ...  0.700943  0.675664  0.576725  0.274264   \n",
       "1  0.004529  0.000441  0.003468  ...  0.679417  0.478855  0.156777  0.005614   \n",
       "2  0.641414  0.563562  0.544636  ...  0.795313  0.803022  0.793797  0.756357   \n",
       "3  0.034330  0.015354  0.007416  ...  0.513655  0.567146  0.421498  0.175365   \n",
       "4  0.405980  0.436840  0.405198  ...  0.610109  0.394919  0.127044  0.059372   \n",
       "\n",
       "       2495      2496          2497      2498      2499    type  \n",
       "0  0.047644  0.000828  1.815899e-11  0.000000  0.000000  Normal  \n",
       "1  0.000002  0.000000  0.000000e+00  0.000000  0.000000  Normal  \n",
       "2  0.697951  0.381402  5.514905e-02  0.000626  0.000002  Normal  \n",
       "3  0.013744  0.003936  2.058174e-04  0.001275  0.000204  Normal  \n",
       "4  0.083518  0.094993  1.223609e-01  0.136758  0.121619  Normal  \n",
       "\n",
       "[5 rows x 2501 columns]"
      ]
     },
     "execution_count": 35,
     "metadata": {},
     "output_type": "execute_result"
    }
   ],
   "source": [
    "final.head()"
   ]
  },
  {
   "cell_type": "markdown",
   "metadata": {},
   "source": [
    "## Writing the pixel features into a CSV file"
   ]
  },
  {
   "cell_type": "code",
   "execution_count": 36,
   "metadata": {},
   "outputs": [],
   "source": [
    "final.to_csv(r\"C:\\Users\\mitug\\Pneumonia-Detection-System\\data\\csv\\validation.csv\")"
   ]
  }
 ],
 "metadata": {
  "interpreter": {
   "hash": "a55ab4ece29384b9da2602029a0f6ed5cbe09323f95f9aa4d8fe2db970f11356"
  },
  "kernelspec": {
   "display_name": "Python 3.9.1 64-bit",
   "language": "python",
   "name": "python3"
  },
  "language_info": {
   "codemirror_mode": {
    "name": "ipython",
    "version": 3
   },
   "file_extension": ".py",
   "mimetype": "text/x-python",
   "name": "python",
   "nbconvert_exporter": "python",
   "pygments_lexer": "ipython3",
   "version": "3.9.1"
  },
  "orig_nbformat": 4
 },
 "nbformat": 4,
 "nbformat_minor": 2
}
